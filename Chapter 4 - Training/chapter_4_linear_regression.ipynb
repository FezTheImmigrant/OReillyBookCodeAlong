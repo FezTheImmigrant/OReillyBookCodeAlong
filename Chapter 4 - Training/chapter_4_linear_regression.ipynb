{
 "nbformat": 4,
 "nbformat_minor": 2,
 "metadata": {
  "language_info": {
   "name": "python",
   "codemirror_mode": {
    "name": "ipython",
    "version": 3
   },
   "version": "3.7.5"
  },
  "orig_nbformat": 2,
  "file_extension": ".py",
  "mimetype": "text/x-python",
  "name": "python",
  "npconvert_exporter": "python",
  "pygments_lexer": "ipython3",
  "version": 3
 },
 "cells": [
  {
   "cell_type": "markdown",
   "execution_count": null,
   "metadata": {},
   "outputs": [],
   "source": [
    "## Linear Regression Using Normal Equation"
   ]
  },
  {
   "cell_type": "code",
   "execution_count": 1,
   "metadata": {},
   "outputs": [],
   "source": [
    "import numpy as np\n",
    "\n",
    "X = 2 * np.random.rand(100,1) ## random values from [0,2]\n",
    "y = 4 + 3 * X + np.random.randn(100,1) ## general linear function y = 3 * x + 4 (with noise)"
   ]
  },
  {
   "cell_type": "code",
   "execution_count": 6,
   "metadata": {},
   "outputs": [
    {
     "data": {
      "text/plain": "<matplotlib.collections.PathCollection at 0x1a55a756f08>"
     },
     "execution_count": 6,
     "metadata": {},
     "output_type": "execute_result"
    },
    {
     "data": {
      "image/png": "[encoded data removed]",
      "image/svg+xml": "<?xml version=\"1.0\" encoding=\"utf-8\" standalone=\"no\"?>\r\n<!DOCTYPE svg PUBLIC \"-//W3C//DTD SVG 1.1//EN\"\r\n  \"http://www.w3.org/Graphics/SVG/1.1/DTD/svg11.dtd\">\r\n<!-- Created with matplotlib (https://matplotlib.org/) -->\r\n<svg height=\"248.518125pt\" version=\"1.1\" viewBox=\"0 0 368.925 248.518125\" width=\"368.925pt\" xmlns=\"http://www.w3.org/2000/svg\" xmlns:xlink=\"http://www.w3.org/1999/xlink\">\r\n <defs>\r\n  <style type=\"text/css\">\r\n*{stroke-linecap:butt;stroke-linejoin:round;}\r\n  </style>\r\n </defs>\r\n <g id=\"figure_1\">\r\n  <g id=\"patch_1\">\r\n   <path d=\"M -0 248.518125 \r\nL 368.925 248.518125 \r\nL 368.925 0 \r\nL -0 0 \r\nz\r\n\" style=\"fill:none;\"/>\r\n  </g>\r\n  <g id=\"axes_1\">\r\n   <g id=\"patch_2\">\r\n    <path d=\"M 26.925 224.64 \r\nL 361.725 224.64 \r\nL 361.725 7.2 \r\nL 26.925 7.2 \r\nz\r\n\" style=\"fill:#ffffff;\"/>\r\n   </g>\r\n   <g id=\"PathCollection_1\">\r\n    <defs>\r\n     <path d=\"M 0 3 \r\nC 0.795609 3 1.55874 2.683901 2.12132 2.12132 \r\nC 2.683901 1.55874 3 0.795609 3 0 \r\nC 3 -0.795609 2.683901 -1.55874 2.12132 -2.12132 \r\nC 1.55874 -2.683901 0.795609 -3 0 -3 \r\nC -0.795609 -3 -1.55874 -2.683901 -2.12132 -2.12132 \r\nC -2.683901 -1.55874 -3 -0.795609 -3 0 \r\nC -3 0.795609 -2.683901 1.55874 -2.12132 2.12132 \r\nC -1.55874 2.683901 -0.795609 3 0 3 \r\nz\r\n\" id=\"m697f2f30d1\" style=\"stroke:#1f77b4;\"/>\r\n    </defs>\r\n    <g clip-path=\"url(#p15f941ede5)\">\r\n     <use style=\"fill:#1f77b4;stroke:#1f77b4;\" x=\"241.166682\" xlink:href=\"#m697f2f30d1\" y=\"125.23927\"/>\r\n     <use style=\"fill:#1f77b4;stroke:#1f77b4;\" x=\"44.627191\" xlink:href=\"#m697f2f30d1\" y=\"147.568292\"/>\r\n     <use style=\"fill:#1f77b4;stroke:#1f77b4;\" x=\"223.439112\" xlink:href=\"#m697f2f30d1\" y=\"106.246642\"/>\r\n     <use style=\"fill:#1f77b4;stroke:#1f77b4;\" x=\"112.707621\" xlink:href=\"#m697f2f30d1\" y=\"163.489405\"/>\r\n     <use style=\"fill:#1f77b4;stroke:#1f77b4;\" x=\"123.882813\" xlink:href=\"#m697f2f30d1\" y=\"169.076913\"/>\r\n     <use style=\"fill:#1f77b4;stroke:#1f77b4;\" x=\"172.753633\" xlink:href=\"#m697f2f30d1\" y=\"182.872593\"/>\r\n     <use style=\"fill:#1f77b4;stroke:#1f77b4;\" x=\"279.030651\" xlink:href=\"#m697f2f30d1\" y=\"141.155824\"/>\r\n     <use style=\"fill:#1f77b4;stroke:#1f77b4;\" x=\"296.359003\" xlink:href=\"#m697f2f30d1\" y=\"72.480969\"/>\r\n     <use style=\"fill:#1f77b4;stroke:#1f77b4;\" x=\"188.685485\" xlink:href=\"#m697f2f30d1\" y=\"122.030918\"/>\r\n     <use style=\"fill:#1f77b4;stroke:#1f77b4;\" x=\"277.555789\" xlink:href=\"#m697f2f30d1\" y=\"102.385262\"/>\r\n     <use style=\"fill:#1f77b4;stroke:#1f77b4;\" x=\"325.958112\" xlink:href=\"#m697f2f30d1\" y=\"72.141084\"/>\r\n     <use style=\"fill:#1f77b4;stroke:#1f77b4;\" x=\"125.100253\" xlink:href=\"#m697f2f30d1\" y=\"178.15588\"/>\r\n     <use style=\"fill:#1f77b4;stroke:#1f77b4;\" x=\"338.137112\" xlink:href=\"#m697f2f30d1\" y=\"84.696697\"/>\r\n     <use style=\"fill:#1f77b4;stroke:#1f77b4;\" x=\"224.903564\" xlink:href=\"#m697f2f30d1\" y=\"89.563165\"/>\r\n     <use style=\"fill:#1f77b4;stroke:#1f77b4;\" x=\"262.648083\" xlink:href=\"#m697f2f30d1\" y=\"61.233707\"/>\r\n     <use style=\"fill:#1f77b4;stroke:#1f77b4;\" x=\"176.529204\" xlink:href=\"#m697f2f30d1\" y=\"90.159826\"/>\r\n     <use style=\"fill:#1f77b4;stroke:#1f77b4;\" x=\"95.935578\" xlink:href=\"#m697f2f30d1\" y=\"169.881986\"/>\r\n     <use style=\"fill:#1f77b4;stroke:#1f77b4;\" x=\"267.078283\" xlink:href=\"#m697f2f30d1\" y=\"80.134184\"/>\r\n     <use style=\"fill:#1f77b4;stroke:#1f77b4;\" x=\"120.485061\" xlink:href=\"#m697f2f30d1\" y=\"137.954325\"/>\r\n     <use style=\"fill:#1f77b4;stroke:#1f77b4;\" x=\"225.749643\" xlink:href=\"#m697f2f30d1\" y=\"88.100747\"/>\r\n     <use style=\"fill:#1f77b4;stroke:#1f77b4;\" x=\"142.12689\" xlink:href=\"#m697f2f30d1\" y=\"124.451729\"/>\r\n     <use style=\"fill:#1f77b4;stroke:#1f77b4;\" x=\"233.902653\" xlink:href=\"#m697f2f30d1\" y=\"100.519463\"/>\r\n     <use style=\"fill:#1f77b4;stroke:#1f77b4;\" x=\"56.340047\" xlink:href=\"#m697f2f30d1\" y=\"193.555192\"/>\r\n     <use style=\"fill:#1f77b4;stroke:#1f77b4;\" x=\"194.51838\" xlink:href=\"#m697f2f30d1\" y=\"111.190078\"/>\r\n     <use style=\"fill:#1f77b4;stroke:#1f77b4;\" x=\"341.661035\" xlink:href=\"#m697f2f30d1\" y=\"23.84405\"/>\r\n     <use style=\"fill:#1f77b4;stroke:#1f77b4;\" x=\"82.537343\" xlink:href=\"#m697f2f30d1\" y=\"145.286936\"/>\r\n     <use style=\"fill:#1f77b4;stroke:#1f77b4;\" x=\"300.635206\" xlink:href=\"#m697f2f30d1\" y=\"34.385077\"/>\r\n     <use style=\"fill:#1f77b4;stroke:#1f77b4;\" x=\"183.969845\" xlink:href=\"#m697f2f30d1\" y=\"166.548594\"/>\r\n     <use style=\"fill:#1f77b4;stroke:#1f77b4;\" x=\"158.458097\" xlink:href=\"#m697f2f30d1\" y=\"162.61558\"/>\r\n     <use style=\"fill:#1f77b4;stroke:#1f77b4;\" x=\"172.272383\" xlink:href=\"#m697f2f30d1\" y=\"96.049234\"/>\r\n     <use style=\"fill:#1f77b4;stroke:#1f77b4;\" x=\"293.884244\" xlink:href=\"#m697f2f30d1\" y=\"22.723157\"/>\r\n     <use style=\"fill:#1f77b4;stroke:#1f77b4;\" x=\"65.456347\" xlink:href=\"#m697f2f30d1\" y=\"196.639941\"/>\r\n     <use style=\"fill:#1f77b4;stroke:#1f77b4;\" x=\"198.487251\" xlink:href=\"#m697f2f30d1\" y=\"148.153303\"/>\r\n     <use style=\"fill:#1f77b4;stroke:#1f77b4;\" x=\"337.714242\" xlink:href=\"#m697f2f30d1\" y=\"54.995368\"/>\r\n     <use style=\"fill:#1f77b4;stroke:#1f77b4;\" x=\"224.219834\" xlink:href=\"#m697f2f30d1\" y=\"115.211801\"/>\r\n     <use style=\"fill:#1f77b4;stroke:#1f77b4;\" x=\"250.833597\" xlink:href=\"#m697f2f30d1\" y=\"71.104721\"/>\r\n     <use style=\"fill:#1f77b4;stroke:#1f77b4;\" x=\"157.919043\" xlink:href=\"#m697f2f30d1\" y=\"76.909534\"/>\r\n     <use style=\"fill:#1f77b4;stroke:#1f77b4;\" x=\"269.469455\" xlink:href=\"#m697f2f30d1\" y=\"84.158478\"/>\r\n     <use style=\"fill:#1f77b4;stroke:#1f77b4;\" x=\"248.836587\" xlink:href=\"#m697f2f30d1\" y=\"77.059995\"/>\r\n     <use style=\"fill:#1f77b4;stroke:#1f77b4;\" x=\"275.724451\" xlink:href=\"#m697f2f30d1\" y=\"103.67767\"/>\r\n     <use style=\"fill:#1f77b4;stroke:#1f77b4;\" x=\"47.42629\" xlink:href=\"#m697f2f30d1\" y=\"167.272377\"/>\r\n     <use style=\"fill:#1f77b4;stroke:#1f77b4;\" x=\"194.022739\" xlink:href=\"#m697f2f30d1\" y=\"113.497898\"/>\r\n     <use style=\"fill:#1f77b4;stroke:#1f77b4;\" x=\"163.671443\" xlink:href=\"#m697f2f30d1\" y=\"117.957362\"/>\r\n     <use style=\"fill:#1f77b4;stroke:#1f77b4;\" x=\"270.086106\" xlink:href=\"#m697f2f30d1\" y=\"125.655739\"/>\r\n     <use style=\"fill:#1f77b4;stroke:#1f77b4;\" x=\"244.471752\" xlink:href=\"#m697f2f30d1\" y=\"89.878888\"/>\r\n     <use style=\"fill:#1f77b4;stroke:#1f77b4;\" x=\"89.296188\" xlink:href=\"#m697f2f30d1\" y=\"177.181089\"/>\r\n     <use style=\"fill:#1f77b4;stroke:#1f77b4;\" x=\"111.02424\" xlink:href=\"#m697f2f30d1\" y=\"165.503755\"/>\r\n     <use style=\"fill:#1f77b4;stroke:#1f77b4;\" x=\"75.978057\" xlink:href=\"#m697f2f30d1\" y=\"147.247049\"/>\r\n     <use style=\"fill:#1f77b4;stroke:#1f77b4;\" x=\"115.860158\" xlink:href=\"#m697f2f30d1\" y=\"134.972287\"/>\r\n     <use style=\"fill:#1f77b4;stroke:#1f77b4;\" x=\"320.600592\" xlink:href=\"#m697f2f30d1\" y=\"38.838986\"/>\r\n     <use style=\"fill:#1f77b4;stroke:#1f77b4;\" x=\"143.529255\" xlink:href=\"#m697f2f30d1\" y=\"142.453562\"/>\r\n     <use style=\"fill:#1f77b4;stroke:#1f77b4;\" x=\"289.376697\" xlink:href=\"#m697f2f30d1\" y=\"100.538289\"/>\r\n     <use style=\"fill:#1f77b4;stroke:#1f77b4;\" x=\"260.498016\" xlink:href=\"#m697f2f30d1\" y=\"77.974882\"/>\r\n     <use style=\"fill:#1f77b4;stroke:#1f77b4;\" x=\"326.862814\" xlink:href=\"#m697f2f30d1\" y=\"17.401023\"/>\r\n     <use style=\"fill:#1f77b4;stroke:#1f77b4;\" x=\"242.998971\" xlink:href=\"#m697f2f30d1\" y=\"100.307695\"/>\r\n     <use style=\"fill:#1f77b4;stroke:#1f77b4;\" x=\"88.573285\" xlink:href=\"#m697f2f30d1\" y=\"147.752336\"/>\r\n     <use style=\"fill:#1f77b4;stroke:#1f77b4;\" x=\"62.983208\" xlink:href=\"#m697f2f30d1\" y=\"131.835745\"/>\r\n     <use style=\"fill:#1f77b4;stroke:#1f77b4;\" x=\"239.323274\" xlink:href=\"#m697f2f30d1\" y=\"110.069435\"/>\r\n     <use style=\"fill:#1f77b4;stroke:#1f77b4;\" x=\"311.001496\" xlink:href=\"#m697f2f30d1\" y=\"38.754342\"/>\r\n     <use style=\"fill:#1f77b4;stroke:#1f77b4;\" x=\"132.587523\" xlink:href=\"#m697f2f30d1\" y=\"117.321416\"/>\r\n     <use style=\"fill:#1f77b4;stroke:#1f77b4;\" x=\"264.484794\" xlink:href=\"#m697f2f30d1\" y=\"61.628225\"/>\r\n     <use style=\"fill:#1f77b4;stroke:#1f77b4;\" x=\"166.434148\" xlink:href=\"#m697f2f30d1\" y=\"126.029803\"/>\r\n     <use style=\"fill:#1f77b4;stroke:#1f77b4;\" x=\"117.102048\" xlink:href=\"#m697f2f30d1\" y=\"177.881275\"/>\r\n     <use style=\"fill:#1f77b4;stroke:#1f77b4;\" x=\"43.526411\" xlink:href=\"#m697f2f30d1\" y=\"214.438977\"/>\r\n     <use style=\"fill:#1f77b4;stroke:#1f77b4;\" x=\"129.419496\" xlink:href=\"#m697f2f30d1\" y=\"130.580339\"/>\r\n     <use style=\"fill:#1f77b4;stroke:#1f77b4;\" x=\"254.183277\" xlink:href=\"#m697f2f30d1\" y=\"111.312956\"/>\r\n     <use style=\"fill:#1f77b4;stroke:#1f77b4;\" x=\"117.271538\" xlink:href=\"#m697f2f30d1\" y=\"167.587775\"/>\r\n     <use style=\"fill:#1f77b4;stroke:#1f77b4;\" x=\"225.444023\" xlink:href=\"#m697f2f30d1\" y=\"132.735787\"/>\r\n     <use style=\"fill:#1f77b4;stroke:#1f77b4;\" x=\"140.582586\" xlink:href=\"#m697f2f30d1\" y=\"131.151869\"/>\r\n     <use style=\"fill:#1f77b4;stroke:#1f77b4;\" x=\"211.287279\" xlink:href=\"#m697f2f30d1\" y=\"90.108528\"/>\r\n     <use style=\"fill:#1f77b4;stroke:#1f77b4;\" x=\"329.412755\" xlink:href=\"#m697f2f30d1\" y=\"40.353478\"/>\r\n     <use style=\"fill:#1f77b4;stroke:#1f77b4;\" x=\"301.851888\" xlink:href=\"#m697f2f30d1\" y=\"58.787201\"/>\r\n     <use style=\"fill:#1f77b4;stroke:#1f77b4;\" x=\"228.091576\" xlink:href=\"#m697f2f30d1\" y=\"129.802903\"/>\r\n     <use style=\"fill:#1f77b4;stroke:#1f77b4;\" x=\"212.121328\" xlink:href=\"#m697f2f30d1\" y=\"143.637119\"/>\r\n     <use style=\"fill:#1f77b4;stroke:#1f77b4;\" x=\"211.4972\" xlink:href=\"#m697f2f30d1\" y=\"137.572322\"/>\r\n     <use style=\"fill:#1f77b4;stroke:#1f77b4;\" x=\"181.244169\" xlink:href=\"#m697f2f30d1\" y=\"134.214315\"/>\r\n     <use style=\"fill:#1f77b4;stroke:#1f77b4;\" x=\"146.57441\" xlink:href=\"#m697f2f30d1\" y=\"131.643555\"/>\r\n     <use style=\"fill:#1f77b4;stroke:#1f77b4;\" x=\"303.846491\" xlink:href=\"#m697f2f30d1\" y=\"117.802824\"/>\r\n     <use style=\"fill:#1f77b4;stroke:#1f77b4;\" x=\"94.723231\" xlink:href=\"#m697f2f30d1\" y=\"161.723679\"/>\r\n     <use style=\"fill:#1f77b4;stroke:#1f77b4;\" x=\"299.335529\" xlink:href=\"#m697f2f30d1\" y=\"37.718889\"/>\r\n     <use style=\"fill:#1f77b4;stroke:#1f77b4;\" x=\"60.712809\" xlink:href=\"#m697f2f30d1\" y=\"186.130431\"/>\r\n     <use style=\"fill:#1f77b4;stroke:#1f77b4;\" x=\"80.535274\" xlink:href=\"#m697f2f30d1\" y=\"148.610561\"/>\r\n     <use style=\"fill:#1f77b4;stroke:#1f77b4;\" x=\"290.010257\" xlink:href=\"#m697f2f30d1\" y=\"52.921924\"/>\r\n     <use style=\"fill:#1f77b4;stroke:#1f77b4;\" x=\"176.801788\" xlink:href=\"#m697f2f30d1\" y=\"119.838115\"/>\r\n     <use style=\"fill:#1f77b4;stroke:#1f77b4;\" x=\"291.652545\" xlink:href=\"#m697f2f30d1\" y=\"91.582297\"/>\r\n     <use style=\"fill:#1f77b4;stroke:#1f77b4;\" x=\"286.501054\" xlink:href=\"#m697f2f30d1\" y=\"97.721878\"/>\r\n     <use style=\"fill:#1f77b4;stroke:#1f77b4;\" x=\"200.219453\" xlink:href=\"#m697f2f30d1\" y=\"120.576204\"/>\r\n     <use style=\"fill:#1f77b4;stroke:#1f77b4;\" x=\"329.262583\" xlink:href=\"#m697f2f30d1\" y=\"87.440917\"/>\r\n     <use style=\"fill:#1f77b4;stroke:#1f77b4;\" x=\"44.943081\" xlink:href=\"#m697f2f30d1\" y=\"199.035035\"/>\r\n     <use style=\"fill:#1f77b4;stroke:#1f77b4;\" x=\"192.193386\" xlink:href=\"#m697f2f30d1\" y=\"68.406502\"/>\r\n     <use style=\"fill:#1f77b4;stroke:#1f77b4;\" x=\"176.345591\" xlink:href=\"#m697f2f30d1\" y=\"96.541996\"/>\r\n     <use style=\"fill:#1f77b4;stroke:#1f77b4;\" x=\"244.042009\" xlink:href=\"#m697f2f30d1\" y=\"131.312455\"/>\r\n     <use style=\"fill:#1f77b4;stroke:#1f77b4;\" x=\"48.615849\" xlink:href=\"#m697f2f30d1\" y=\"162.692914\"/>\r\n     <use style=\"fill:#1f77b4;stroke:#1f77b4;\" x=\"232.946535\" xlink:href=\"#m697f2f30d1\" y=\"88.50236\"/>\r\n     <use style=\"fill:#1f77b4;stroke:#1f77b4;\" x=\"233.882723\" xlink:href=\"#m697f2f30d1\" y=\"106.376928\"/>\r\n     <use style=\"fill:#1f77b4;stroke:#1f77b4;\" x=\"310.587683\" xlink:href=\"#m697f2f30d1\" y=\"45.16603\"/>\r\n     <use style=\"fill:#1f77b4;stroke:#1f77b4;\" x=\"206.113548\" xlink:href=\"#m697f2f30d1\" y=\"85.435877\"/>\r\n     <use style=\"fill:#1f77b4;stroke:#1f77b4;\" x=\"111.577154\" xlink:href=\"#m697f2f30d1\" y=\"136.145038\"/>\r\n     <use style=\"fill:#1f77b4;stroke:#1f77b4;\" x=\"345.123589\" xlink:href=\"#m697f2f30d1\" y=\"38.741687\"/>\r\n     <use style=\"fill:#1f77b4;stroke:#1f77b4;\" x=\"285.773314\" xlink:href=\"#m697f2f30d1\" y=\"48.032592\"/>\r\n    </g>\r\n   </g>\r\n   <g id=\"matplotlib.axis_1\">\r\n    <g id=\"xtick_1\">\r\n     <g id=\"line2d_1\">\r\n      <defs>\r\n       <path d=\"M 0 0 \r\nL 0 3.5 \r\n\" id=\"m65ef010a71\" style=\"stroke:#000000;stroke-width:0.8;\"/>\r\n      </defs>\r\n      <g>\r\n       <use style=\"stroke:#000000;stroke-width:0.8;\" x=\"41.34782\" xlink:href=\"#m65ef010a71\" y=\"224.64\"/>\r\n      </g>\r\n     </g>\r\n     <g id=\"text_1\">\r\n      <!-- 0.00 -->\r\n      <defs>\r\n       <path d=\"M 31.78125 66.40625 \r\nQ 24.171875 66.40625 20.328125 58.90625 \r\nQ 16.5 51.421875 16.5 36.375 \r\nQ 16.5 21.390625 20.328125 13.890625 \r\nQ 24.171875 6.390625 31.78125 6.390625 \r\nQ 39.453125 6.390625 43.28125 13.890625 \r\nQ 47.125 21.390625 47.125 36.375 \r\nQ 47.125 51.421875 43.28125 58.90625 \r\nQ 39.453125 66.40625 31.78125 66.40625 \r\nz\r\nM 31.78125 74.21875 \r\nQ 44.046875 74.21875 50.515625 64.515625 \r\nQ 56.984375 54.828125 56.984375 36.375 \r\nQ 56.984375 17.96875 50.515625 8.265625 \r\nQ 44.046875 -1.421875 31.78125 -1.421875 \r\nQ 19.53125 -1.421875 13.0625 8.265625 \r\nQ 6.59375 17.96875 6.59375 36.375 \r\nQ 6.59375 54.828125 13.0625 64.515625 \r\nQ 19.53125 74.21875 31.78125 74.21875 \r\nz\r\n\" id=\"DejaVuSans-48\"/>\r\n       <path d=\"M 10.6875 12.40625 \r\nL 21 12.40625 \r\nL 21 0 \r\nL 10.6875 0 \r\nz\r\n\" id=\"DejaVuSans-46\"/>\r\n      </defs>\r\n      <g transform=\"translate(30.215008 239.238437)scale(0.1 -0.1)\">\r\n       <use xlink:href=\"#DejaVuSans-48\"/>\r\n       <use x=\"63.623047\" xlink:href=\"#DejaVuSans-46\"/>\r\n       <use x=\"95.410156\" xlink:href=\"#DejaVuSans-48\"/>\r\n       <use x=\"159.033203\" xlink:href=\"#DejaVuSans-48\"/>\r\n      </g>\r\n     </g>\r\n    </g>\r\n    <g id=\"xtick_2\">\r\n     <g id=\"line2d_2\">\r\n      <g>\r\n       <use style=\"stroke:#000000;stroke-width:0.8;\" x=\"79.939903\" xlink:href=\"#m65ef010a71\" y=\"224.64\"/>\r\n      </g>\r\n     </g>\r\n     <g id=\"text_2\">\r\n      <!-- 0.25 -->\r\n      <defs>\r\n       <path d=\"M 19.1875 8.296875 \r\nL 53.609375 8.296875 \r\nL 53.609375 0 \r\nL 7.328125 0 \r\nL 7.328125 8.296875 \r\nQ 12.9375 14.109375 22.625 23.890625 \r\nQ 32.328125 33.6875 34.8125 36.53125 \r\nQ 39.546875 41.84375 41.421875 45.53125 \r\nQ 43.3125 49.21875 43.3125 52.78125 \r\nQ 43.3125 58.59375 39.234375 62.25 \r\nQ 35.15625 65.921875 28.609375 65.921875 \r\nQ 23.96875 65.921875 18.8125 64.3125 \r\nQ 13.671875 62.703125 7.8125 59.421875 \r\nL 7.8125 69.390625 \r\nQ 13.765625 71.78125 18.9375 73 \r\nQ 24.125 74.21875 28.421875 74.21875 \r\nQ 39.75 74.21875 46.484375 68.546875 \r\nQ 53.21875 62.890625 53.21875 53.421875 \r\nQ 53.21875 48.921875 51.53125 44.890625 \r\nQ 49.859375 40.875 45.40625 35.40625 \r\nQ 44.1875 33.984375 37.640625 27.21875 \r\nQ 31.109375 20.453125 19.1875 8.296875 \r\nz\r\n\" id=\"DejaVuSans-50\"/>\r\n       <path d=\"M 10.796875 72.90625 \r\nL 49.515625 72.90625 \r\nL 49.515625 64.59375 \r\nL 19.828125 64.59375 \r\nL 19.828125 46.734375 \r\nQ 21.96875 47.46875 24.109375 47.828125 \r\nQ 26.265625 48.1875 28.421875 48.1875 \r\nQ 40.625 48.1875 47.75 41.5 \r\nQ 54.890625 34.8125 54.890625 23.390625 \r\nQ 54.890625 11.625 47.5625 5.09375 \r\nQ 40.234375 -1.421875 26.90625 -1.421875 \r\nQ 22.3125 -1.421875 17.546875 -0.640625 \r\nQ 12.796875 0.140625 7.71875 1.703125 \r\nL 7.71875 11.625 \r\nQ 12.109375 9.234375 16.796875 8.0625 \r\nQ 21.484375 6.890625 26.703125 6.890625 \r\nQ 35.15625 6.890625 40.078125 11.328125 \r\nQ 45.015625 15.765625 45.015625 23.390625 \r\nQ 45.015625 31 40.078125 35.4375 \r\nQ 35.15625 39.890625 26.703125 39.890625 \r\nQ 22.75 39.890625 18.8125 39.015625 \r\nQ 14.890625 38.140625 10.796875 36.28125 \r\nz\r\n\" id=\"DejaVuSans-53\"/>\r\n      </defs>\r\n      <g transform=\"translate(68.80709 239.238437)scale(0.1 -0.1)\">\r\n       <use xlink:href=\"#DejaVuSans-48\"/>\r\n       <use x=\"63.623047\" xlink:href=\"#DejaVuSans-46\"/>\r\n       <use x=\"95.410156\" xlink:href=\"#DejaVuSans-50\"/>\r\n       <use x=\"159.033203\" xlink:href=\"#DejaVuSans-53\"/>\r\n      </g>\r\n     </g>\r\n    </g>\r\n    <g id=\"xtick_3\">\r\n     <g id=\"line2d_3\">\r\n      <g>\r\n       <use style=\"stroke:#000000;stroke-width:0.8;\" x=\"118.531985\" xlink:href=\"#m65ef010a71\" y=\"224.64\"/>\r\n      </g>\r\n     </g>\r\n     <g id=\"text_3\">\r\n      <!-- 0.50 -->\r\n      <g transform=\"translate(107.399172 239.238437)scale(0.1 -0.1)\">\r\n       <use xlink:href=\"#DejaVuSans-48\"/>\r\n       <use x=\"63.623047\" xlink:href=\"#DejaVuSans-46\"/>\r\n       <use x=\"95.410156\" xlink:href=\"#DejaVuSans-53\"/>\r\n       <use x=\"159.033203\" xlink:href=\"#DejaVuSans-48\"/>\r\n      </g>\r\n     </g>\r\n    </g>\r\n    <g id=\"xtick_4\">\r\n     <g id=\"line2d_4\">\r\n      <g>\r\n       <use style=\"stroke:#000000;stroke-width:0.8;\" x=\"157.124067\" xlink:href=\"#m65ef010a71\" y=\"224.64\"/>\r\n      </g>\r\n     </g>\r\n     <g id=\"text_4\">\r\n      <!-- 0.75 -->\r\n      <defs>\r\n       <path d=\"M 8.203125 72.90625 \r\nL 55.078125 72.90625 \r\nL 55.078125 68.703125 \r\nL 28.609375 0 \r\nL 18.3125 0 \r\nL 43.21875 64.59375 \r\nL 8.203125 64.59375 \r\nz\r\n\" id=\"DejaVuSans-55\"/>\r\n      </defs>\r\n      <g transform=\"translate(145.991255 239.238437)scale(0.1 -0.1)\">\r\n       <use xlink:href=\"#DejaVuSans-48\"/>\r\n       <use x=\"63.623047\" xlink:href=\"#DejaVuSans-46\"/>\r\n       <use x=\"95.410156\" xlink:href=\"#DejaVuSans-55\"/>\r\n       <use x=\"159.033203\" xlink:href=\"#DejaVuSans-53\"/>\r\n      </g>\r\n     </g>\r\n    </g>\r\n    <g id=\"xtick_5\">\r\n     <g id=\"line2d_5\">\r\n      <g>\r\n       <use style=\"stroke:#000000;stroke-width:0.8;\" x=\"195.716149\" xlink:href=\"#m65ef010a71\" y=\"224.64\"/>\r\n      </g>\r\n     </g>\r\n     <g id=\"text_5\">\r\n      <!-- 1.00 -->\r\n      <defs>\r\n       <path d=\"M 12.40625 8.296875 \r\nL 28.515625 8.296875 \r\nL 28.515625 63.921875 \r\nL 10.984375 60.40625 \r\nL 10.984375 69.390625 \r\nL 28.421875 72.90625 \r\nL 38.28125 72.90625 \r\nL 38.28125 8.296875 \r\nL 54.390625 8.296875 \r\nL 54.390625 0 \r\nL 12.40625 0 \r\nz\r\n\" id=\"DejaVuSans-49\"/>\r\n      </defs>\r\n      <g transform=\"translate(184.583337 239.238437)scale(0.1 -0.1)\">\r\n       <use xlink:href=\"#DejaVuSans-49\"/>\r\n       <use x=\"63.623047\" xlink:href=\"#DejaVuSans-46\"/>\r\n       <use x=\"95.410156\" xlink:href=\"#DejaVuSans-48\"/>\r\n       <use x=\"159.033203\" xlink:href=\"#DejaVuSans-48\"/>\r\n      </g>\r\n     </g>\r\n    </g>\r\n    <g id=\"xtick_6\">\r\n     <g id=\"line2d_6\">\r\n      <g>\r\n       <use style=\"stroke:#000000;stroke-width:0.8;\" x=\"234.308232\" xlink:href=\"#m65ef010a71\" y=\"224.64\"/>\r\n      </g>\r\n     </g>\r\n     <g id=\"text_6\">\r\n      <!-- 1.25 -->\r\n      <g transform=\"translate(223.175419 239.238437)scale(0.1 -0.1)\">\r\n       <use xlink:href=\"#DejaVuSans-49\"/>\r\n       <use x=\"63.623047\" xlink:href=\"#DejaVuSans-46\"/>\r\n       <use x=\"95.410156\" xlink:href=\"#DejaVuSans-50\"/>\r\n       <use x=\"159.033203\" xlink:href=\"#DejaVuSans-53\"/>\r\n      </g>\r\n     </g>\r\n    </g>\r\n    <g id=\"xtick_7\">\r\n     <g id=\"line2d_7\">\r\n      <g>\r\n       <use style=\"stroke:#000000;stroke-width:0.8;\" x=\"272.900314\" xlink:href=\"#m65ef010a71\" y=\"224.64\"/>\r\n      </g>\r\n     </g>\r\n     <g id=\"text_7\">\r\n      <!-- 1.50 -->\r\n      <g transform=\"translate(261.767501 239.238437)scale(0.1 -0.1)\">\r\n       <use xlink:href=\"#DejaVuSans-49\"/>\r\n       <use x=\"63.623047\" xlink:href=\"#DejaVuSans-46\"/>\r\n       <use x=\"95.410156\" xlink:href=\"#DejaVuSans-53\"/>\r\n       <use x=\"159.033203\" xlink:href=\"#DejaVuSans-48\"/>\r\n      </g>\r\n     </g>\r\n    </g>\r\n    <g id=\"xtick_8\">\r\n     <g id=\"line2d_8\">\r\n      <g>\r\n       <use style=\"stroke:#000000;stroke-width:0.8;\" x=\"311.492396\" xlink:href=\"#m65ef010a71\" y=\"224.64\"/>\r\n      </g>\r\n     </g>\r\n     <g id=\"text_8\">\r\n      <!-- 1.75 -->\r\n      <g transform=\"translate(300.359584 239.238437)scale(0.1 -0.1)\">\r\n       <use xlink:href=\"#DejaVuSans-49\"/>\r\n       <use x=\"63.623047\" xlink:href=\"#DejaVuSans-46\"/>\r\n       <use x=\"95.410156\" xlink:href=\"#DejaVuSans-55\"/>\r\n       <use x=\"159.033203\" xlink:href=\"#DejaVuSans-53\"/>\r\n      </g>\r\n     </g>\r\n    </g>\r\n    <g id=\"xtick_9\">\r\n     <g id=\"line2d_9\">\r\n      <g>\r\n       <use style=\"stroke:#000000;stroke-width:0.8;\" x=\"350.084478\" xlink:href=\"#m65ef010a71\" y=\"224.64\"/>\r\n      </g>\r\n     </g>\r\n     <g id=\"text_9\">\r\n      <!-- 2.00 -->\r\n      <g transform=\"translate(338.951666 239.238437)scale(0.1 -0.1)\">\r\n       <use xlink:href=\"#DejaVuSans-50\"/>\r\n       <use x=\"63.623047\" xlink:href=\"#DejaVuSans-46\"/>\r\n       <use x=\"95.410156\" xlink:href=\"#DejaVuSans-48\"/>\r\n       <use x=\"159.033203\" xlink:href=\"#DejaVuSans-48\"/>\r\n      </g>\r\n     </g>\r\n    </g>\r\n   </g>\r\n   <g id=\"matplotlib.axis_2\">\r\n    <g id=\"ytick_1\">\r\n     <g id=\"line2d_10\">\r\n      <defs>\r\n       <path d=\"M 0 0 \r\nL -3.5 0 \r\n\" id=\"md068839ca7\" style=\"stroke:#000000;stroke-width:0.8;\"/>\r\n      </defs>\r\n      <g>\r\n       <use style=\"stroke:#000000;stroke-width:0.8;\" x=\"26.925\" xlink:href=\"#md068839ca7\" y=\"182.340881\"/>\r\n      </g>\r\n     </g>\r\n     <g id=\"text_10\">\r\n      <!-- 4 -->\r\n      <defs>\r\n       <path d=\"M 37.796875 64.3125 \r\nL 12.890625 25.390625 \r\nL 37.796875 25.390625 \r\nz\r\nM 35.203125 72.90625 \r\nL 47.609375 72.90625 \r\nL 47.609375 25.390625 \r\nL 58.015625 25.390625 \r\nL 58.015625 17.1875 \r\nL 47.609375 17.1875 \r\nL 47.609375 0 \r\nL 37.796875 0 \r\nL 37.796875 17.1875 \r\nL 4.890625 17.1875 \r\nL 4.890625 26.703125 \r\nz\r\n\" id=\"DejaVuSans-52\"/>\r\n      </defs>\r\n      <g transform=\"translate(13.5625 186.1401)scale(0.1 -0.1)\">\r\n       <use xlink:href=\"#DejaVuSans-52\"/>\r\n      </g>\r\n     </g>\r\n    </g>\r\n    <g id=\"ytick_2\">\r\n     <g id=\"line2d_11\">\r\n      <g>\r\n       <use style=\"stroke:#000000;stroke-width:0.8;\" x=\"26.925\" xlink:href=\"#md068839ca7\" y=\"136.332514\"/>\r\n      </g>\r\n     </g>\r\n     <g id=\"text_11\">\r\n      <!-- 6 -->\r\n      <defs>\r\n       <path d=\"M 33.015625 40.375 \r\nQ 26.375 40.375 22.484375 35.828125 \r\nQ 18.609375 31.296875 18.609375 23.390625 \r\nQ 18.609375 15.53125 22.484375 10.953125 \r\nQ 26.375 6.390625 33.015625 6.390625 \r\nQ 39.65625 6.390625 43.53125 10.953125 \r\nQ 47.40625 15.53125 47.40625 23.390625 \r\nQ 47.40625 31.296875 43.53125 35.828125 \r\nQ 39.65625 40.375 33.015625 40.375 \r\nz\r\nM 52.59375 71.296875 \r\nL 52.59375 62.3125 \r\nQ 48.875 64.0625 45.09375 64.984375 \r\nQ 41.3125 65.921875 37.59375 65.921875 \r\nQ 27.828125 65.921875 22.671875 59.328125 \r\nQ 17.53125 52.734375 16.796875 39.40625 \r\nQ 19.671875 43.65625 24.015625 45.921875 \r\nQ 28.375 48.1875 33.59375 48.1875 \r\nQ 44.578125 48.1875 50.953125 41.515625 \r\nQ 57.328125 34.859375 57.328125 23.390625 \r\nQ 57.328125 12.15625 50.6875 5.359375 \r\nQ 44.046875 -1.421875 33.015625 -1.421875 \r\nQ 20.359375 -1.421875 13.671875 8.265625 \r\nQ 6.984375 17.96875 6.984375 36.375 \r\nQ 6.984375 53.65625 15.1875 63.9375 \r\nQ 23.390625 74.21875 37.203125 74.21875 \r\nQ 40.921875 74.21875 44.703125 73.484375 \r\nQ 48.484375 72.75 52.59375 71.296875 \r\nz\r\n\" id=\"DejaVuSans-54\"/>\r\n      </defs>\r\n      <g transform=\"translate(13.5625 140.131733)scale(0.1 -0.1)\">\r\n       <use xlink:href=\"#DejaVuSans-54\"/>\r\n      </g>\r\n     </g>\r\n    </g>\r\n    <g id=\"ytick_3\">\r\n     <g id=\"line2d_12\">\r\n      <g>\r\n       <use style=\"stroke:#000000;stroke-width:0.8;\" x=\"26.925\" xlink:href=\"#md068839ca7\" y=\"90.324147\"/>\r\n      </g>\r\n     </g>\r\n     <g id=\"text_12\">\r\n      <!-- 8 -->\r\n      <defs>\r\n       <path d=\"M 31.78125 34.625 \r\nQ 24.75 34.625 20.71875 30.859375 \r\nQ 16.703125 27.09375 16.703125 20.515625 \r\nQ 16.703125 13.921875 20.71875 10.15625 \r\nQ 24.75 6.390625 31.78125 6.390625 \r\nQ 38.8125 6.390625 42.859375 10.171875 \r\nQ 46.921875 13.96875 46.921875 20.515625 \r\nQ 46.921875 27.09375 42.890625 30.859375 \r\nQ 38.875 34.625 31.78125 34.625 \r\nz\r\nM 21.921875 38.8125 \r\nQ 15.578125 40.375 12.03125 44.71875 \r\nQ 8.5 49.078125 8.5 55.328125 \r\nQ 8.5 64.0625 14.71875 69.140625 \r\nQ 20.953125 74.21875 31.78125 74.21875 \r\nQ 42.671875 74.21875 48.875 69.140625 \r\nQ 55.078125 64.0625 55.078125 55.328125 \r\nQ 55.078125 49.078125 51.53125 44.71875 \r\nQ 48 40.375 41.703125 38.8125 \r\nQ 48.828125 37.15625 52.796875 32.3125 \r\nQ 56.78125 27.484375 56.78125 20.515625 \r\nQ 56.78125 9.90625 50.3125 4.234375 \r\nQ 43.84375 -1.421875 31.78125 -1.421875 \r\nQ 19.734375 -1.421875 13.25 4.234375 \r\nQ 6.78125 9.90625 6.78125 20.515625 \r\nQ 6.78125 27.484375 10.78125 32.3125 \r\nQ 14.796875 37.15625 21.921875 38.8125 \r\nz\r\nM 18.3125 54.390625 \r\nQ 18.3125 48.734375 21.84375 45.5625 \r\nQ 25.390625 42.390625 31.78125 42.390625 \r\nQ 38.140625 42.390625 41.71875 45.5625 \r\nQ 45.3125 48.734375 45.3125 54.390625 \r\nQ 45.3125 60.0625 41.71875 63.234375 \r\nQ 38.140625 66.40625 31.78125 66.40625 \r\nQ 25.390625 66.40625 21.84375 63.234375 \r\nQ 18.3125 60.0625 18.3125 54.390625 \r\nz\r\n\" id=\"DejaVuSans-56\"/>\r\n      </defs>\r\n      <g transform=\"translate(13.5625 94.123366)scale(0.1 -0.1)\">\r\n       <use xlink:href=\"#DejaVuSans-56\"/>\r\n      </g>\r\n     </g>\r\n    </g>\r\n    <g id=\"ytick_4\">\r\n     <g id=\"line2d_13\">\r\n      <g>\r\n       <use style=\"stroke:#000000;stroke-width:0.8;\" x=\"26.925\" xlink:href=\"#md068839ca7\" y=\"44.31578\"/>\r\n      </g>\r\n     </g>\r\n     <g id=\"text_13\">\r\n      <!-- 10 -->\r\n      <g transform=\"translate(7.2 48.114999)scale(0.1 -0.1)\">\r\n       <use xlink:href=\"#DejaVuSans-49\"/>\r\n       <use x=\"63.623047\" xlink:href=\"#DejaVuSans-48\"/>\r\n      </g>\r\n     </g>\r\n    </g>\r\n   </g>\r\n   <g id=\"patch_3\">\r\n    <path d=\"M 26.925 224.64 \r\nL 26.925 7.2 \r\n\" style=\"fill:none;stroke:#000000;stroke-linecap:square;stroke-linejoin:miter;stroke-width:0.8;\"/>\r\n   </g>\r\n   <g id=\"patch_4\">\r\n    <path d=\"M 361.725 224.64 \r\nL 361.725 7.2 \r\n\" style=\"fill:none;stroke:#000000;stroke-linecap:square;stroke-linejoin:miter;stroke-width:0.8;\"/>\r\n   </g>\r\n   <g id=\"patch_5\">\r\n    <path d=\"M 26.925 224.64 \r\nL 361.725 224.64 \r\n\" style=\"fill:none;stroke:#000000;stroke-linecap:square;stroke-linejoin:miter;stroke-width:0.8;\"/>\r\n   </g>\r\n   <g id=\"patch_6\">\r\n    <path d=\"M 26.925 7.2 \r\nL 361.725 7.2 \r\n\" style=\"fill:none;stroke:#000000;stroke-linecap:square;stroke-linejoin:miter;stroke-width:0.8;\"/>\r\n   </g>\r\n  </g>\r\n </g>\r\n <defs>\r\n  <clipPath id=\"p15f941ede5\">\r\n   <rect height=\"217.44\" width=\"334.8\" x=\"26.925\" y=\"7.2\"/>\r\n  </clipPath>\r\n </defs>\r\n</svg>\r\n",
      "text/plain": "<Figure size 432x288 with 1 Axes>"
     },
     "metadata": {
      "needs_background": "light"
     },
     "output_type": "display_data"
    }
   ],
   "source": [
    "import matplotlib.pyplot as plt\n",
    "\n",
    "plt.scatter(X,y)"
   ]
  },
  {
   "cell_type": "code",
   "execution_count": 15,
   "metadata": {},
   "outputs": [
    {
     "data": {
      "text/plain": "array([[1.29442913],\n       [0.0212438 ],\n       [1.17958971],\n       [0.4622697 ],\n       [0.53466273],\n       [0.85124853],\n       [1.5397124 ],\n       [1.65196569],\n       [0.95445527],\n       [1.53015822],\n       [1.84370909],\n       [0.54254932],\n       [1.92260481],\n       [1.18907644],\n       [1.43358592],\n       [0.87570673],\n       [0.35362019],\n       [1.46228481],\n       [0.51265205],\n       [1.19455735],\n       [0.65284809],\n       [1.24737265],\n       [0.09711984],\n       [0.99224083],\n       [1.94543283],\n       [0.26682626],\n       [1.67966698],\n       [0.92390729],\n       [0.75864186],\n       [0.84813098],\n       [1.63593417],\n       [0.15617535],\n       [1.01795123],\n       [1.91986545],\n       [1.18464723],\n       [1.35705153],\n       [0.75514986],\n       [1.47777485],\n       [1.34411487],\n       [1.5182948 ],\n       [0.0393764 ],\n       [0.98903007],\n       [0.79241399],\n       [1.48176952],\n       [1.31583941],\n       [0.31061013],\n       [0.45136474],\n       [0.22433511],\n       [0.48269187],\n       [1.80900301],\n       [0.66193264],\n       [1.60673422],\n       [1.41965776],\n       [1.84956976],\n       [1.30629872],\n       [0.30592716],\n       [0.14015432],\n       [1.28248751],\n       [1.74681994],\n       [0.59105196],\n       [1.44548416],\n       [0.81031082],\n       [0.49073685],\n       [0.01411294],\n       [0.57052943],\n       [1.3787508 ],\n       [0.49183481],\n       [1.19257754],\n       [0.64284408],\n       [1.10086998],\n       [1.86608831],\n       [1.68754867],\n       [1.20972842],\n       [1.10627295],\n       [1.10222985],\n       [0.90625033],\n       [0.68165918],\n       [1.70046973],\n       [0.34576659],\n       [1.67124766],\n       [0.12544664],\n       [0.25385683],\n       [1.61083843],\n       [0.87747252],\n       [1.62147719],\n       [1.58810577],\n       [1.02917246],\n       [1.8651155 ],\n       [0.02329015],\n       [0.97717949],\n       [0.87451728],\n       [1.31305553],\n       [0.04708238],\n       [1.24117891],\n       [1.24724355],\n       [1.74413926],\n       [1.06735448],\n       [0.45494652],\n       [1.9678633 ],\n       [1.58339146]])"
     },
     "execution_count": 15,
     "metadata": {},
     "output_type": "execute_result"
    }
   ],
   "source": [
    "X"
   ]
  },
  {
   "cell_type": "code",
   "execution_count": 24,
   "metadata": {},
   "outputs": [],
   "source": [
    "X_b = np.c_[np.ones((100,1)),X]\n",
    "theta_best = np.linalg.inv(X_b.T.dot(X_b)).dot(X_b.T).dot(y)"
   ]
  },
  {
   "cell_type": "markdown",
   "execution_count": null,
   "metadata": {},
   "outputs": [],
   "source": [
    "* each row in X is an instance of our data, while each column is a feature of each instance; therefore, we need to add x0 to our X variable (X_b) since each instance has two features (x0,x1 :: y_intercept,slope)"
   ]
  },
  {
   "cell_type": "code",
   "execution_count": 20,
   "metadata": {},
   "outputs": [
    {
     "name": "stdout",
     "output_type": "stream",
     "text": "[[3.97436295]\n [2.92513998]]\n"
    }
   ],
   "source": [
    "print(theta_best) ## never will be perfect with noise"
   ]
  },
  {
   "cell_type": "code",
   "execution_count": 25,
   "metadata": {},
   "outputs": [
    {
     "data": {
      "text/plain": "array([[3.97436295],\n       [9.8246429 ]])"
     },
     "execution_count": 25,
     "metadata": {},
     "output_type": "execute_result"
    }
   ],
   "source": [
    "X_new = np.array([[0],[2]])\n",
    "X_new_b = np.c_[np.ones((2,1)),X_new]\n",
    "y_predict = X_new_b.dot(theta_best)\n",
    "y_predict"
   ]
  },
  {
   "cell_type": "code",
   "execution_count": 28,
   "metadata": {},
   "outputs": [
    {
     "data": {
      "text/plain": "[<matplotlib.lines.Line2D at 0x1a5611cee08>]"
     },
     "execution_count": 28,
     "metadata": {},
     "output_type": "execute_result"
    },
    {
     "data": {
      "image/png": "[encoded data removed]",
      "image/svg+xml": "<?xml version=\"1.0\" encoding=\"utf-8\" standalone=\"no\"?>\r\n<!DOCTYPE svg PUBLIC \"-//W3C//DTD SVG 1.1//EN\"\r\n  \"http://www.w3.org/Graphics/SVG/1.1/DTD/svg11.dtd\">\r\n<!-- Created with matplotlib (https://matplotlib.org/) -->\r\n<svg height=\"248.518125pt\" version=\"1.1\" viewBox=\"0 0 368.925 248.518125\" width=\"368.925pt\" xmlns=\"http://www.w3.org/2000/svg\" xmlns:xlink=\"http://www.w3.org/1999/xlink\">\r\n <defs>\r\n  <style type=\"text/css\">\r\n*{stroke-linecap:butt;stroke-linejoin:round;}\r\n  </style>\r\n </defs>\r\n <g id=\"figure_1\">\r\n  <g id=\"patch_1\">\r\n   <path d=\"M -0 248.518125 \r\nL 368.925 248.518125 \r\nL 368.925 0 \r\nL -0 0 \r\nz\r\n\" style=\"fill:none;\"/>\r\n  </g>\r\n  <g id=\"axes_1\">\r\n   <g id=\"patch_2\">\r\n    <path d=\"M 26.925 224.64 \r\nL 361.725 224.64 \r\nL 361.725 7.2 \r\nL 26.925 7.2 \r\nz\r\n\" style=\"fill:#ffffff;\"/>\r\n   </g>\r\n   <g id=\"matplotlib.axis_1\">\r\n    <g id=\"xtick_1\">\r\n     <g id=\"line2d_1\">\r\n      <defs>\r\n       <path d=\"M 0 0 \r\nL 0 3.5 \r\n\" id=\"m79899f750b\" style=\"stroke:#000000;stroke-width:0.8;\"/>\r\n      </defs>\r\n      <g>\r\n       <use style=\"stroke:#000000;stroke-width:0.8;\" x=\"42.143182\" xlink:href=\"#m79899f750b\" y=\"224.64\"/>\r\n      </g>\r\n     </g>\r\n     <g id=\"text_1\">\r\n      <!-- 0.00 -->\r\n      <defs>\r\n       <path d=\"M 31.78125 66.40625 \r\nQ 24.171875 66.40625 20.328125 58.90625 \r\nQ 16.5 51.421875 16.5 36.375 \r\nQ 16.5 21.390625 20.328125 13.890625 \r\nQ 24.171875 6.390625 31.78125 6.390625 \r\nQ 39.453125 6.390625 43.28125 13.890625 \r\nQ 47.125 21.390625 47.125 36.375 \r\nQ 47.125 51.421875 43.28125 58.90625 \r\nQ 39.453125 66.40625 31.78125 66.40625 \r\nz\r\nM 31.78125 74.21875 \r\nQ 44.046875 74.21875 50.515625 64.515625 \r\nQ 56.984375 54.828125 56.984375 36.375 \r\nQ 56.984375 17.96875 50.515625 8.265625 \r\nQ 44.046875 -1.421875 31.78125 -1.421875 \r\nQ 19.53125 -1.421875 13.0625 8.265625 \r\nQ 6.59375 17.96875 6.59375 36.375 \r\nQ 6.59375 54.828125 13.0625 64.515625 \r\nQ 19.53125 74.21875 31.78125 74.21875 \r\nz\r\n\" id=\"DejaVuSans-48\"/>\r\n       <path d=\"M 10.6875 12.40625 \r\nL 21 12.40625 \r\nL 21 0 \r\nL 10.6875 0 \r\nz\r\n\" id=\"DejaVuSans-46\"/>\r\n      </defs>\r\n      <g transform=\"translate(31.010369 239.238438)scale(0.1 -0.1)\">\r\n       <use xlink:href=\"#DejaVuSans-48\"/>\r\n       <use x=\"63.623047\" xlink:href=\"#DejaVuSans-46\"/>\r\n       <use x=\"95.410156\" xlink:href=\"#DejaVuSans-48\"/>\r\n       <use x=\"159.033203\" xlink:href=\"#DejaVuSans-48\"/>\r\n      </g>\r\n     </g>\r\n    </g>\r\n    <g id=\"xtick_2\">\r\n     <g id=\"line2d_2\">\r\n      <g>\r\n       <use style=\"stroke:#000000;stroke-width:0.8;\" x=\"80.188636\" xlink:href=\"#m79899f750b\" y=\"224.64\"/>\r\n      </g>\r\n     </g>\r\n     <g id=\"text_2\">\r\n      <!-- 0.25 -->\r\n      <defs>\r\n       <path d=\"M 19.1875 8.296875 \r\nL 53.609375 8.296875 \r\nL 53.609375 0 \r\nL 7.328125 0 \r\nL 7.328125 8.296875 \r\nQ 12.9375 14.109375 22.625 23.890625 \r\nQ 32.328125 33.6875 34.8125 36.53125 \r\nQ 39.546875 41.84375 41.421875 45.53125 \r\nQ 43.3125 49.21875 43.3125 52.78125 \r\nQ 43.3125 58.59375 39.234375 62.25 \r\nQ 35.15625 65.921875 28.609375 65.921875 \r\nQ 23.96875 65.921875 18.8125 64.3125 \r\nQ 13.671875 62.703125 7.8125 59.421875 \r\nL 7.8125 69.390625 \r\nQ 13.765625 71.78125 18.9375 73 \r\nQ 24.125 74.21875 28.421875 74.21875 \r\nQ 39.75 74.21875 46.484375 68.546875 \r\nQ 53.21875 62.890625 53.21875 53.421875 \r\nQ 53.21875 48.921875 51.53125 44.890625 \r\nQ 49.859375 40.875 45.40625 35.40625 \r\nQ 44.1875 33.984375 37.640625 27.21875 \r\nQ 31.109375 20.453125 19.1875 8.296875 \r\nz\r\n\" id=\"DejaVuSans-50\"/>\r\n       <path d=\"M 10.796875 72.90625 \r\nL 49.515625 72.90625 \r\nL 49.515625 64.59375 \r\nL 19.828125 64.59375 \r\nL 19.828125 46.734375 \r\nQ 21.96875 47.46875 24.109375 47.828125 \r\nQ 26.265625 48.1875 28.421875 48.1875 \r\nQ 40.625 48.1875 47.75 41.5 \r\nQ 54.890625 34.8125 54.890625 23.390625 \r\nQ 54.890625 11.625 47.5625 5.09375 \r\nQ 40.234375 -1.421875 26.90625 -1.421875 \r\nQ 22.3125 -1.421875 17.546875 -0.640625 \r\nQ 12.796875 0.140625 7.71875 1.703125 \r\nL 7.71875 11.625 \r\nQ 12.109375 9.234375 16.796875 8.0625 \r\nQ 21.484375 6.890625 26.703125 6.890625 \r\nQ 35.15625 6.890625 40.078125 11.328125 \r\nQ 45.015625 15.765625 45.015625 23.390625 \r\nQ 45.015625 31 40.078125 35.4375 \r\nQ 35.15625 39.890625 26.703125 39.890625 \r\nQ 22.75 39.890625 18.8125 39.015625 \r\nQ 14.890625 38.140625 10.796875 36.28125 \r\nz\r\n\" id=\"DejaVuSans-53\"/>\r\n      </defs>\r\n      <g transform=\"translate(69.055824 239.238438)scale(0.1 -0.1)\">\r\n       <use xlink:href=\"#DejaVuSans-48\"/>\r\n       <use x=\"63.623047\" xlink:href=\"#DejaVuSans-46\"/>\r\n       <use x=\"95.410156\" xlink:href=\"#DejaVuSans-50\"/>\r\n       <use x=\"159.033203\" xlink:href=\"#DejaVuSans-53\"/>\r\n      </g>\r\n     </g>\r\n    </g>\r\n    <g id=\"xtick_3\">\r\n     <g id=\"line2d_3\">\r\n      <g>\r\n       <use style=\"stroke:#000000;stroke-width:0.8;\" x=\"118.234091\" xlink:href=\"#m79899f750b\" y=\"224.64\"/>\r\n      </g>\r\n     </g>\r\n     <g id=\"text_3\">\r\n      <!-- 0.50 -->\r\n      <g transform=\"translate(107.101278 239.238438)scale(0.1 -0.1)\">\r\n       <use xlink:href=\"#DejaVuSans-48\"/>\r\n       <use x=\"63.623047\" xlink:href=\"#DejaVuSans-46\"/>\r\n       <use x=\"95.410156\" xlink:href=\"#DejaVuSans-53\"/>\r\n       <use x=\"159.033203\" xlink:href=\"#DejaVuSans-48\"/>\r\n      </g>\r\n     </g>\r\n    </g>\r\n    <g id=\"xtick_4\">\r\n     <g id=\"line2d_4\">\r\n      <g>\r\n       <use style=\"stroke:#000000;stroke-width:0.8;\" x=\"156.279545\" xlink:href=\"#m79899f750b\" y=\"224.64\"/>\r\n      </g>\r\n     </g>\r\n     <g id=\"text_4\">\r\n      <!-- 0.75 -->\r\n      <defs>\r\n       <path d=\"M 8.203125 72.90625 \r\nL 55.078125 72.90625 \r\nL 55.078125 68.703125 \r\nL 28.609375 0 \r\nL 18.3125 0 \r\nL 43.21875 64.59375 \r\nL 8.203125 64.59375 \r\nz\r\n\" id=\"DejaVuSans-55\"/>\r\n      </defs>\r\n      <g transform=\"translate(145.146733 239.238438)scale(0.1 -0.1)\">\r\n       <use xlink:href=\"#DejaVuSans-48\"/>\r\n       <use x=\"63.623047\" xlink:href=\"#DejaVuSans-46\"/>\r\n       <use x=\"95.410156\" xlink:href=\"#DejaVuSans-55\"/>\r\n       <use x=\"159.033203\" xlink:href=\"#DejaVuSans-53\"/>\r\n      </g>\r\n     </g>\r\n    </g>\r\n    <g id=\"xtick_5\">\r\n     <g id=\"line2d_5\">\r\n      <g>\r\n       <use style=\"stroke:#000000;stroke-width:0.8;\" x=\"194.325\" xlink:href=\"#m79899f750b\" y=\"224.64\"/>\r\n      </g>\r\n     </g>\r\n     <g id=\"text_5\">\r\n      <!-- 1.00 -->\r\n      <defs>\r\n       <path d=\"M 12.40625 8.296875 \r\nL 28.515625 8.296875 \r\nL 28.515625 63.921875 \r\nL 10.984375 60.40625 \r\nL 10.984375 69.390625 \r\nL 28.421875 72.90625 \r\nL 38.28125 72.90625 \r\nL 38.28125 8.296875 \r\nL 54.390625 8.296875 \r\nL 54.390625 0 \r\nL 12.40625 0 \r\nz\r\n\" id=\"DejaVuSans-49\"/>\r\n      </defs>\r\n      <g transform=\"translate(183.192188 239.238438)scale(0.1 -0.1)\">\r\n       <use xlink:href=\"#DejaVuSans-49\"/>\r\n       <use x=\"63.623047\" xlink:href=\"#DejaVuSans-46\"/>\r\n       <use x=\"95.410156\" xlink:href=\"#DejaVuSans-48\"/>\r\n       <use x=\"159.033203\" xlink:href=\"#DejaVuSans-48\"/>\r\n      </g>\r\n     </g>\r\n    </g>\r\n    <g id=\"xtick_6\">\r\n     <g id=\"line2d_6\">\r\n      <g>\r\n       <use style=\"stroke:#000000;stroke-width:0.8;\" x=\"232.370455\" xlink:href=\"#m79899f750b\" y=\"224.64\"/>\r\n      </g>\r\n     </g>\r\n     <g id=\"text_6\">\r\n      <!-- 1.25 -->\r\n      <g transform=\"translate(221.237642 239.238438)scale(0.1 -0.1)\">\r\n       <use xlink:href=\"#DejaVuSans-49\"/>\r\n       <use x=\"63.623047\" xlink:href=\"#DejaVuSans-46\"/>\r\n       <use x=\"95.410156\" xlink:href=\"#DejaVuSans-50\"/>\r\n       <use x=\"159.033203\" xlink:href=\"#DejaVuSans-53\"/>\r\n      </g>\r\n     </g>\r\n    </g>\r\n    <g id=\"xtick_7\">\r\n     <g id=\"line2d_7\">\r\n      <g>\r\n       <use style=\"stroke:#000000;stroke-width:0.8;\" x=\"270.415909\" xlink:href=\"#m79899f750b\" y=\"224.64\"/>\r\n      </g>\r\n     </g>\r\n     <g id=\"text_7\">\r\n      <!-- 1.50 -->\r\n      <g transform=\"translate(259.283097 239.238438)scale(0.1 -0.1)\">\r\n       <use xlink:href=\"#DejaVuSans-49\"/>\r\n       <use x=\"63.623047\" xlink:href=\"#DejaVuSans-46\"/>\r\n       <use x=\"95.410156\" xlink:href=\"#DejaVuSans-53\"/>\r\n       <use x=\"159.033203\" xlink:href=\"#DejaVuSans-48\"/>\r\n      </g>\r\n     </g>\r\n    </g>\r\n    <g id=\"xtick_8\">\r\n     <g id=\"line2d_8\">\r\n      <g>\r\n       <use style=\"stroke:#000000;stroke-width:0.8;\" x=\"308.461364\" xlink:href=\"#m79899f750b\" y=\"224.64\"/>\r\n      </g>\r\n     </g>\r\n     <g id=\"text_8\">\r\n      <!-- 1.75 -->\r\n      <g transform=\"translate(297.328551 239.238438)scale(0.1 -0.1)\">\r\n       <use xlink:href=\"#DejaVuSans-49\"/>\r\n       <use x=\"63.623047\" xlink:href=\"#DejaVuSans-46\"/>\r\n       <use x=\"95.410156\" xlink:href=\"#DejaVuSans-55\"/>\r\n       <use x=\"159.033203\" xlink:href=\"#DejaVuSans-53\"/>\r\n      </g>\r\n     </g>\r\n    </g>\r\n    <g id=\"xtick_9\">\r\n     <g id=\"line2d_9\">\r\n      <g>\r\n       <use style=\"stroke:#000000;stroke-width:0.8;\" x=\"346.506818\" xlink:href=\"#m79899f750b\" y=\"224.64\"/>\r\n      </g>\r\n     </g>\r\n     <g id=\"text_9\">\r\n      <!-- 2.00 -->\r\n      <g transform=\"translate(335.374006 239.238438)scale(0.1 -0.1)\">\r\n       <use xlink:href=\"#DejaVuSans-50\"/>\r\n       <use x=\"63.623047\" xlink:href=\"#DejaVuSans-46\"/>\r\n       <use x=\"95.410156\" xlink:href=\"#DejaVuSans-48\"/>\r\n       <use x=\"159.033203\" xlink:href=\"#DejaVuSans-48\"/>\r\n      </g>\r\n     </g>\r\n    </g>\r\n   </g>\r\n   <g id=\"matplotlib.axis_2\">\r\n    <g id=\"ytick_1\">\r\n     <g id=\"line2d_10\">\r\n      <defs>\r\n       <path d=\"M 0 0 \r\nL -3.5 0 \r\n\" id=\"m889277fb9a\" style=\"stroke:#000000;stroke-width:0.8;\"/>\r\n      </defs>\r\n      <g>\r\n       <use style=\"stroke:#000000;stroke-width:0.8;\" x=\"26.925\" xlink:href=\"#m889277fb9a\" y=\"182.554861\"/>\r\n      </g>\r\n     </g>\r\n     <g id=\"text_10\">\r\n      <!-- 4 -->\r\n      <defs>\r\n       <path d=\"M 37.796875 64.3125 \r\nL 12.890625 25.390625 \r\nL 37.796875 25.390625 \r\nz\r\nM 35.203125 72.90625 \r\nL 47.609375 72.90625 \r\nL 47.609375 25.390625 \r\nL 58.015625 25.390625 \r\nL 58.015625 17.1875 \r\nL 47.609375 17.1875 \r\nL 47.609375 0 \r\nL 37.796875 0 \r\nL 37.796875 17.1875 \r\nL 4.890625 17.1875 \r\nL 4.890625 26.703125 \r\nz\r\n\" id=\"DejaVuSans-52\"/>\r\n      </defs>\r\n      <g transform=\"translate(13.5625 186.35408)scale(0.1 -0.1)\">\r\n       <use xlink:href=\"#DejaVuSans-52\"/>\r\n      </g>\r\n     </g>\r\n    </g>\r\n    <g id=\"ytick_2\">\r\n     <g id=\"line2d_11\">\r\n      <g>\r\n       <use style=\"stroke:#000000;stroke-width:0.8;\" x=\"26.925\" xlink:href=\"#m889277fb9a\" y=\"136.398274\"/>\r\n      </g>\r\n     </g>\r\n     <g id=\"text_11\">\r\n      <!-- 6 -->\r\n      <defs>\r\n       <path d=\"M 33.015625 40.375 \r\nQ 26.375 40.375 22.484375 35.828125 \r\nQ 18.609375 31.296875 18.609375 23.390625 \r\nQ 18.609375 15.53125 22.484375 10.953125 \r\nQ 26.375 6.390625 33.015625 6.390625 \r\nQ 39.65625 6.390625 43.53125 10.953125 \r\nQ 47.40625 15.53125 47.40625 23.390625 \r\nQ 47.40625 31.296875 43.53125 35.828125 \r\nQ 39.65625 40.375 33.015625 40.375 \r\nz\r\nM 52.59375 71.296875 \r\nL 52.59375 62.3125 \r\nQ 48.875 64.0625 45.09375 64.984375 \r\nQ 41.3125 65.921875 37.59375 65.921875 \r\nQ 27.828125 65.921875 22.671875 59.328125 \r\nQ 17.53125 52.734375 16.796875 39.40625 \r\nQ 19.671875 43.65625 24.015625 45.921875 \r\nQ 28.375 48.1875 33.59375 48.1875 \r\nQ 44.578125 48.1875 50.953125 41.515625 \r\nQ 57.328125 34.859375 57.328125 23.390625 \r\nQ 57.328125 12.15625 50.6875 5.359375 \r\nQ 44.046875 -1.421875 33.015625 -1.421875 \r\nQ 20.359375 -1.421875 13.671875 8.265625 \r\nQ 6.984375 17.96875 6.984375 36.375 \r\nQ 6.984375 53.65625 15.1875 63.9375 \r\nQ 23.390625 74.21875 37.203125 74.21875 \r\nQ 40.921875 74.21875 44.703125 73.484375 \r\nQ 48.484375 72.75 52.59375 71.296875 \r\nz\r\n\" id=\"DejaVuSans-54\"/>\r\n      </defs>\r\n      <g transform=\"translate(13.5625 140.197493)scale(0.1 -0.1)\">\r\n       <use xlink:href=\"#DejaVuSans-54\"/>\r\n      </g>\r\n     </g>\r\n    </g>\r\n    <g id=\"ytick_3\">\r\n     <g id=\"line2d_12\">\r\n      <g>\r\n       <use style=\"stroke:#000000;stroke-width:0.8;\" x=\"26.925\" xlink:href=\"#m889277fb9a\" y=\"90.241688\"/>\r\n      </g>\r\n     </g>\r\n     <g id=\"text_12\">\r\n      <!-- 8 -->\r\n      <defs>\r\n       <path d=\"M 31.78125 34.625 \r\nQ 24.75 34.625 20.71875 30.859375 \r\nQ 16.703125 27.09375 16.703125 20.515625 \r\nQ 16.703125 13.921875 20.71875 10.15625 \r\nQ 24.75 6.390625 31.78125 6.390625 \r\nQ 38.8125 6.390625 42.859375 10.171875 \r\nQ 46.921875 13.96875 46.921875 20.515625 \r\nQ 46.921875 27.09375 42.890625 30.859375 \r\nQ 38.875 34.625 31.78125 34.625 \r\nz\r\nM 21.921875 38.8125 \r\nQ 15.578125 40.375 12.03125 44.71875 \r\nQ 8.5 49.078125 8.5 55.328125 \r\nQ 8.5 64.0625 14.71875 69.140625 \r\nQ 20.953125 74.21875 31.78125 74.21875 \r\nQ 42.671875 74.21875 48.875 69.140625 \r\nQ 55.078125 64.0625 55.078125 55.328125 \r\nQ 55.078125 49.078125 51.53125 44.71875 \r\nQ 48 40.375 41.703125 38.8125 \r\nQ 48.828125 37.15625 52.796875 32.3125 \r\nQ 56.78125 27.484375 56.78125 20.515625 \r\nQ 56.78125 9.90625 50.3125 4.234375 \r\nQ 43.84375 -1.421875 31.78125 -1.421875 \r\nQ 19.734375 -1.421875 13.25 4.234375 \r\nQ 6.78125 9.90625 6.78125 20.515625 \r\nQ 6.78125 27.484375 10.78125 32.3125 \r\nQ 14.796875 37.15625 21.921875 38.8125 \r\nz\r\nM 18.3125 54.390625 \r\nQ 18.3125 48.734375 21.84375 45.5625 \r\nQ 25.390625 42.390625 31.78125 42.390625 \r\nQ 38.140625 42.390625 41.71875 45.5625 \r\nQ 45.3125 48.734375 45.3125 54.390625 \r\nQ 45.3125 60.0625 41.71875 63.234375 \r\nQ 38.140625 66.40625 31.78125 66.40625 \r\nQ 25.390625 66.40625 21.84375 63.234375 \r\nQ 18.3125 60.0625 18.3125 54.390625 \r\nz\r\n\" id=\"DejaVuSans-56\"/>\r\n      </defs>\r\n      <g transform=\"translate(13.5625 94.040907)scale(0.1 -0.1)\">\r\n       <use xlink:href=\"#DejaVuSans-56\"/>\r\n      </g>\r\n     </g>\r\n    </g>\r\n    <g id=\"ytick_4\">\r\n     <g id=\"line2d_13\">\r\n      <g>\r\n       <use style=\"stroke:#000000;stroke-width:0.8;\" x=\"26.925\" xlink:href=\"#m889277fb9a\" y=\"44.085102\"/>\r\n      </g>\r\n     </g>\r\n     <g id=\"text_13\">\r\n      <!-- 10 -->\r\n      <g transform=\"translate(7.2 47.88432)scale(0.1 -0.1)\">\r\n       <use xlink:href=\"#DejaVuSans-49\"/>\r\n       <use x=\"63.623047\" xlink:href=\"#DejaVuSans-48\"/>\r\n      </g>\r\n     </g>\r\n    </g>\r\n   </g>\r\n   <g id=\"line2d_14\">\r\n    <path clip-path=\"url(#p7ece339a13)\" d=\"M 42.143182 183.14652 \r\nL 346.506818 48.132044 \r\n\" style=\"fill:none;stroke:#1f77b4;stroke-linecap:square;stroke-width:1.5;\"/>\r\n   </g>\r\n   <g id=\"line2d_15\">\r\n    <defs>\r\n     <path d=\"M 0 1.5 \r\nC 0.397805 1.5 0.77937 1.341951 1.06066 1.06066 \r\nC 1.341951 0.77937 1.5 0.397805 1.5 0 \r\nC 1.5 -0.397805 1.341951 -0.77937 1.06066 -1.06066 \r\nC 0.77937 -1.341951 0.397805 -1.5 0 -1.5 \r\nC -0.397805 -1.5 -0.77937 -1.341951 -1.06066 -1.06066 \r\nC -1.341951 -0.77937 -1.5 -0.397805 -1.5 0 \r\nC -1.5 0.397805 -1.341951 0.77937 -1.06066 1.06066 \r\nC -0.77937 1.341951 -0.397805 1.5 0 1.5 \r\nz\r\n\" id=\"m50ed11a17f\" style=\"stroke:#0000ff;\"/>\r\n    </defs>\r\n    <g clip-path=\"url(#p7ece339a13)\">\r\n     <use style=\"fill:#0000ff;stroke:#0000ff;\" x=\"239.131761\" xlink:href=\"#m50ed11a17f\" y=\"125.269293\"/>\r\n     <use style=\"fill:#0000ff;stroke:#0000ff;\" x=\"45.376102\" xlink:href=\"#m50ed11a17f\" y=\"147.67025\"/>\r\n     <use style=\"fill:#0000ff;stroke:#0000ff;\" x=\"221.655288\" xlink:href=\"#m50ed11a17f\" y=\"106.215478\"/>\r\n     <use style=\"fill:#0000ff;stroke:#0000ff;\" x=\"112.492225\" xlink:href=\"#m50ed11a17f\" y=\"163.642654\"/>\r\n     <use style=\"fill:#0000ff;stroke:#0000ff;\" x=\"123.509128\" xlink:href=\"#m50ed11a17f\" y=\"169.248163\"/>\r\n     <use style=\"fill:#0000ff;stroke:#0000ff;\" x=\"171.68773\" xlink:href=\"#m50ed11a17f\" y=\"183.088286\"/>\r\n     <use style=\"fill:#0000ff;stroke:#0000ff;\" x=\"276.459415\" xlink:href=\"#m50ed11a17f\" y=\"141.237123\"/>\r\n     <use style=\"fill:#0000ff;stroke:#0000ff;\" x=\"293.542324\" xlink:href=\"#m50ed11a17f\" y=\"72.341026\"/>\r\n     <use style=\"fill:#0000ff;stroke:#0000ff;\" x=\"187.39392\" xlink:href=\"#m50ed11a17f\" y=\"122.050605\"/>\r\n     <use style=\"fill:#0000ff;stroke:#0000ff;\" x=\"275.005442\" xlink:href=\"#m50ed11a17f\" y=\"102.341659\"/>\r\n     <use style=\"fill:#0000ff;stroke:#0000ff;\" x=\"322.722184\" xlink:href=\"#m50ed11a17f\" y=\"72.000047\"/>\r\n     <use style=\"fill:#0000ff;stroke:#0000ff;\" x=\"124.709324\" xlink:href=\"#m50ed11a17f\" y=\"178.356378\"/>\r\n     <use style=\"fill:#0000ff;stroke:#0000ff;\" x=\"334.728678\" xlink:href=\"#m50ed11a17f\" y=\"84.596109\"/>\r\n     <use style=\"fill:#0000ff;stroke:#0000ff;\" x=\"223.098997\" xlink:href=\"#m50ed11a17f\" y=\"89.478255\"/>\r\n     <use style=\"fill:#0000ff;stroke:#0000ff;\" x=\"260.308893\" xlink:href=\"#m50ed11a17f\" y=\"61.05753\"/>\r\n     <use style=\"fill:#0000ff;stroke:#0000ff;\" x=\"175.409824\" xlink:href=\"#m50ed11a17f\" y=\"90.076837\"/>\r\n     <use style=\"fill:#0000ff;stroke:#0000ff;\" x=\"95.957745\" xlink:href=\"#m50ed11a17f\" y=\"170.055829\"/>\r\n     <use style=\"fill:#0000ff;stroke:#0000ff;\" x=\"264.676342\" xlink:href=\"#m50ed11a17f\" y=\"80.018897\"/>\r\n     <use style=\"fill:#0000ff;stroke:#0000ff;\" x=\"120.159503\" xlink:href=\"#m50ed11a17f\" y=\"138.025311\"/>\r\n     <use style=\"fill:#0000ff;stroke:#0000ff;\" x=\"223.933092\" xlink:href=\"#m50ed11a17f\" y=\"88.011125\"/>\r\n     <use style=\"fill:#0000ff;stroke:#0000ff;\" x=\"141.494792\" xlink:href=\"#m50ed11a17f\" y=\"124.479215\"/>\r\n     <use style=\"fill:#0000ff;stroke:#0000ff;\" x=\"231.97062\" xlink:href=\"#m50ed11a17f\" y=\"100.469849\"/>\r\n     <use style=\"fill:#0000ff;stroke:#0000ff;\" x=\"56.923055\" xlink:href=\"#m50ed11a17f\" y=\"193.805299\"/>\r\n     <use style=\"fill:#0000ff;stroke:#0000ff;\" x=\"193.144196\" xlink:href=\"#m50ed11a17f\" y=\"111.17484\"/>\r\n     <use style=\"fill:#0000ff;stroke:#0000ff;\" x=\"338.202687\" xlink:href=\"#m50ed11a17f\" y=\"23.54742\"/>\r\n     <use style=\"fill:#0000ff;stroke:#0000ff;\" x=\"82.749286\" xlink:href=\"#m50ed11a17f\" y=\"145.381544\"/>\r\n     <use style=\"fill:#0000ff;stroke:#0000ff;\" x=\"297.757957\" xlink:href=\"#m50ed11a17f\" y=\"34.122406\"/>\r\n     <use style=\"fill:#0000ff;stroke:#0000ff;\" x=\"182.745073\" xlink:href=\"#m50ed11a17f\" y=\"166.711698\"/>\r\n     <use style=\"fill:#0000ff;stroke:#0000ff;\" x=\"157.59468\" xlink:href=\"#m50ed11a17f\" y=\"162.766013\"/>\r\n     <use style=\"fill:#0000ff;stroke:#0000ff;\" x=\"171.213297\" xlink:href=\"#m50ed11a17f\" y=\"95.985219\"/>\r\n     <use style=\"fill:#0000ff;stroke:#0000ff;\" x=\"291.102618\" xlink:href=\"#m50ed11a17f\" y=\"22.422916\"/>\r\n     <use style=\"fill:#0000ff;stroke:#0000ff;\" x=\"65.91023\" xlink:href=\"#m50ed11a17f\" y=\"196.899987\"/>\r\n     <use style=\"fill:#0000ff;stroke:#0000ff;\" x=\"197.056851\" xlink:href=\"#m50ed11a17f\" y=\"148.257145\"/>\r\n     <use style=\"fill:#0000ff;stroke:#0000ff;\" x=\"334.311797\" xlink:href=\"#m50ed11a17f\" y=\"54.799095\"/>\r\n     <use style=\"fill:#0000ff;stroke:#0000ff;\" x=\"222.424951\" xlink:href=\"#m50ed11a17f\" y=\"115.20952\"/>\r\n     <use style=\"fill:#0000ff;stroke:#0000ff;\" x=\"248.661751\" xlink:href=\"#m50ed11a17f\" y=\"70.960345\"/>\r\n     <use style=\"fill:#0000ff;stroke:#0000ff;\" x=\"157.063261\" xlink:href=\"#m50ed11a17f\" y=\"76.783859\"/>\r\n     <use style=\"fill:#0000ff;stroke:#0000ff;\" x=\"267.033645\" xlink:href=\"#m50ed11a17f\" y=\"84.056156\"/>\r\n     <use style=\"fill:#0000ff;stroke:#0000ff;\" x=\"246.693026\" xlink:href=\"#m50ed11a17f\" y=\"76.934804\"/>\r\n     <use style=\"fill:#0000ff;stroke:#0000ff;\" x=\"273.200045\" xlink:href=\"#m50ed11a17f\" y=\"103.63823\"/>\r\n     <use style=\"fill:#0000ff;stroke:#0000ff;\" x=\"48.135554\" xlink:href=\"#m50ed11a17f\" y=\"167.437813\"/>\r\n     <use style=\"fill:#0000ff;stroke:#0000ff;\" x=\"192.655575\" xlink:href=\"#m50ed11a17f\" y=\"113.490095\"/>\r\n     <use style=\"fill:#0000ff;stroke:#0000ff;\" x=\"162.734183\" xlink:href=\"#m50ed11a17f\" y=\"117.963926\"/>\r\n     <use style=\"fill:#0000ff;stroke:#0000ff;\" x=\"267.641562\" xlink:href=\"#m50ed11a17f\" y=\"125.687103\"/>\r\n     <use style=\"fill:#0000ff;stroke:#0000ff;\" x=\"242.390016\" xlink:href=\"#m50ed11a17f\" y=\"89.794995\"/>\r\n     <use style=\"fill:#0000ff;stroke:#0000ff;\" x=\"89.412397\" xlink:href=\"#m50ed11a17f\" y=\"177.378446\"/>\r\n     <use style=\"fill:#0000ff;stroke:#0000ff;\" x=\"110.832688\" xlink:href=\"#m50ed11a17f\" y=\"165.663493\"/>\r\n     <use style=\"fill:#0000ff;stroke:#0000ff;\" x=\"76.282907\" xlink:href=\"#m50ed11a17f\" y=\"147.347971\"/>\r\n     <use style=\"fill:#0000ff;stroke:#0000ff;\" x=\"115.600108\" xlink:href=\"#m50ed11a17f\" y=\"135.033665\"/>\r\n     <use style=\"fill:#0000ff;stroke:#0000ff;\" x=\"317.440549\" xlink:href=\"#m50ed11a17f\" y=\"38.590664\"/>\r\n     <use style=\"fill:#0000ff;stroke:#0000ff;\" x=\"142.877294\" xlink:href=\"#m50ed11a17f\" y=\"142.539042\"/>\r\n     <use style=\"fill:#0000ff;stroke:#0000ff;\" x=\"286.658917\" xlink:href=\"#m50ed11a17f\" y=\"100.488736\"/>\r\n     <use style=\"fill:#0000ff;stroke:#0000ff;\" x=\"258.18928\" xlink:href=\"#m50ed11a17f\" y=\"77.852639\"/>\r\n     <use style=\"fill:#0000ff;stroke:#0000ff;\" x=\"323.614071\" xlink:href=\"#m50ed11a17f\" y=\"17.083636\"/>\r\n     <use style=\"fill:#0000ff;stroke:#0000ff;\" x=\"240.938096\" xlink:href=\"#m50ed11a17f\" y=\"100.257399\"/>\r\n     <use style=\"fill:#0000ff;stroke:#0000ff;\" x=\"88.699734\" xlink:href=\"#m50ed11a17f\" y=\"147.854886\"/>\r\n     <use style=\"fill:#0000ff;stroke:#0000ff;\" x=\"63.472121\" xlink:href=\"#m50ed11a17f\" y=\"131.887019\"/>\r\n     <use style=\"fill:#0000ff;stroke:#0000ff;\" x=\"237.314463\" xlink:href=\"#m50ed11a17f\" y=\"110.050587\"/>\r\n     <use style=\"fill:#0000ff;stroke:#0000ff;\" x=\"307.977416\" xlink:href=\"#m50ed11a17f\" y=\"38.505747\"/>\r\n     <use style=\"fill:#0000ff;stroke:#0000ff;\" x=\"132.090543\" xlink:href=\"#m50ed11a17f\" y=\"117.32593\"/>\r\n     <use style=\"fill:#0000ff;stroke:#0000ff;\" x=\"262.119589\" xlink:href=\"#m50ed11a17f\" y=\"61.453319\"/>\r\n     <use style=\"fill:#0000ff;stroke:#0000ff;\" x=\"165.457756\" xlink:href=\"#m50ed11a17f\" y=\"126.062373\"/>\r\n     <use style=\"fill:#0000ff;stroke:#0000ff;\" x=\"116.824408\" xlink:href=\"#m50ed11a17f\" y=\"178.080888\"/>\r\n     <use style=\"fill:#0000ff;stroke:#0000ff;\" x=\"44.290914\" xlink:href=\"#m50ed11a17f\" y=\"214.756364\"/>\r\n     <use style=\"fill:#0000ff;stroke:#0000ff;\" x=\"128.967389\" xlink:href=\"#m50ed11a17f\" y=\"130.627569\"/>\r\n     <use style=\"fill:#0000ff;stroke:#0000ff;\" x=\"251.963985\" xlink:href=\"#m50ed11a17f\" y=\"111.298114\"/>\r\n     <use style=\"fill:#0000ff;stroke:#0000ff;\" x=\"116.991497\" xlink:href=\"#m50ed11a17f\" y=\"167.754226\"/>\r\n     <use style=\"fill:#0000ff;stroke:#0000ff;\" x=\"223.6318\" xlink:href=\"#m50ed11a17f\" y=\"132.789961\"/>\r\n     <use style=\"fill:#0000ff;stroke:#0000ff;\" x=\"139.972362\" xlink:href=\"#m50ed11a17f\" y=\"131.20094\"/>\r\n     <use style=\"fill:#0000ff;stroke:#0000ff;\" x=\"209.675576\" xlink:href=\"#m50ed11a17f\" y=\"90.025374\"/>\r\n     <use style=\"fill:#0000ff;stroke:#0000ff;\" x=\"326.127894\" xlink:href=\"#m50ed11a17f\" y=\"40.110034\"/>\r\n     <use style=\"fill:#0000ff;stroke:#0000ff;\" x=\"298.957406\" xlink:href=\"#m50ed11a17f\" y=\"58.603143\"/>\r\n     <use style=\"fill:#0000ff;stroke:#0000ff;\" x=\"226.241853\" xlink:href=\"#m50ed11a17f\" y=\"129.847628\"/>\r\n     <use style=\"fill:#0000ff;stroke:#0000ff;\" x=\"210.497811\" xlink:href=\"#m50ed11a17f\" y=\"143.726412\"/>\r\n     <use style=\"fill:#0000ff;stroke:#0000ff;\" x=\"209.882524\" xlink:href=\"#m50ed11a17f\" y=\"137.642076\"/>\r\n     <use style=\"fill:#0000ff;stroke:#0000ff;\" x=\"180.058004\" xlink:href=\"#m50ed11a17f\" y=\"134.273252\"/>\r\n     <use style=\"fill:#0000ff;stroke:#0000ff;\" x=\"145.879316\" xlink:href=\"#m50ed11a17f\" y=\"131.694209\"/>\r\n     <use style=\"fill:#0000ff;stroke:#0000ff;\" x=\"300.923757\" xlink:href=\"#m50ed11a17f\" y=\"117.808889\"/>\r\n     <use style=\"fill:#0000ff;stroke:#0000ff;\" x=\"94.76257\" xlink:href=\"#m50ed11a17f\" y=\"161.871239\"/>\r\n     <use style=\"fill:#0000ff;stroke:#0000ff;\" x=\"296.476689\" xlink:href=\"#m50ed11a17f\" y=\"37.466958\"/>\r\n     <use style=\"fill:#0000ff;stroke:#0000ff;\" x=\"61.23388\" xlink:href=\"#m50ed11a17f\" y=\"186.356619\"/>\r\n     <use style=\"fill:#0000ff;stroke:#0000ff;\" x=\"80.775575\" xlink:href=\"#m50ed11a17f\" y=\"148.715876\"/>\r\n     <use style=\"fill:#0000ff;stroke:#0000ff;\" x=\"287.283503\" xlink:href=\"#m50ed11a17f\" y=\"52.718971\"/>\r\n     <use style=\"fill:#0000ff;stroke:#0000ff;\" x=\"175.678546\" xlink:href=\"#m50ed11a17f\" y=\"119.850738\"/>\r\n     <use style=\"fill:#0000ff;stroke:#0000ff;\" x=\"288.902529\" xlink:href=\"#m50ed11a17f\" y=\"91.503891\"/>\r\n     <use style=\"fill:#0000ff;stroke:#0000ff;\" x=\"283.824005\" xlink:href=\"#m50ed11a17f\" y=\"97.663251\"/>\r\n     <use style=\"fill:#0000ff;stroke:#0000ff;\" x=\"198.764518\" xlink:href=\"#m50ed11a17f\" y=\"120.591205\"/>\r\n     <use style=\"fill:#0000ff;stroke:#0000ff;\" x=\"325.97985\" xlink:href=\"#m50ed11a17f\" y=\"87.349169\"/>\r\n     <use style=\"fill:#0000ff;stroke:#0000ff;\" x=\"45.687519\" xlink:href=\"#m50ed11a17f\" y=\"199.302797\"/>\r\n     <use style=\"fill:#0000ff;stroke:#0000ff;\" x=\"190.852134\" xlink:href=\"#m50ed11a17f\" y=\"68.253433\"/>\r\n     <use style=\"fill:#0000ff;stroke:#0000ff;\" x=\"175.228811\" xlink:href=\"#m50ed11a17f\" y=\"96.479568\"/>\r\n     <use style=\"fill:#0000ff;stroke:#0000ff;\" x=\"241.96636\" xlink:href=\"#m50ed11a17f\" y=\"131.362043\"/>\r\n     <use style=\"fill:#0000ff;stroke:#0000ff;\" x=\"49.308265\" xlink:href=\"#m50ed11a17f\" y=\"162.843596\"/>\r\n     <use style=\"fill:#0000ff;stroke:#0000ff;\" x=\"231.028045\" xlink:href=\"#m50ed11a17f\" y=\"88.414032\"/>\r\n     <use style=\"fill:#0000ff;stroke:#0000ff;\" x=\"231.950973\" xlink:href=\"#m50ed11a17f\" y=\"106.346184\"/>\r\n     <use style=\"fill:#0000ff;stroke:#0000ff;\" x=\"307.569465\" xlink:href=\"#m50ed11a17f\" y=\"44.93809\"/>\r\n     <use style=\"fill:#0000ff;stroke:#0000ff;\" x=\"204.575127\" xlink:href=\"#m50ed11a17f\" y=\"85.33767\"/>\r\n     <use style=\"fill:#0000ff;stroke:#0000ff;\" x=\"111.37777\" xlink:href=\"#m50ed11a17f\" y=\"136.210195\"/>\r\n     <use style=\"fill:#0000ff;stroke:#0000ff;\" x=\"341.616196\" xlink:href=\"#m50ed11a17f\" y=\"38.493051\"/>\r\n     <use style=\"fill:#0000ff;stroke:#0000ff;\" x=\"283.106573\" xlink:href=\"#m50ed11a17f\" y=\"47.813887\"/>\r\n    </g>\r\n   </g>\r\n   <g id=\"patch_3\">\r\n    <path d=\"M 26.925 224.64 \r\nL 26.925 7.2 \r\n\" style=\"fill:none;stroke:#000000;stroke-linecap:square;stroke-linejoin:miter;stroke-width:0.8;\"/>\r\n   </g>\r\n   <g id=\"patch_4\">\r\n    <path d=\"M 361.725 224.64 \r\nL 361.725 7.2 \r\n\" style=\"fill:none;stroke:#000000;stroke-linecap:square;stroke-linejoin:miter;stroke-width:0.8;\"/>\r\n   </g>\r\n   <g id=\"patch_5\">\r\n    <path d=\"M 26.925 224.64 \r\nL 361.725 224.64 \r\n\" style=\"fill:none;stroke:#000000;stroke-linecap:square;stroke-linejoin:miter;stroke-width:0.8;\"/>\r\n   </g>\r\n   <g id=\"patch_6\">\r\n    <path d=\"M 26.925 7.2 \r\nL 361.725 7.2 \r\n\" style=\"fill:none;stroke:#000000;stroke-linecap:square;stroke-linejoin:miter;stroke-width:0.8;\"/>\r\n   </g>\r\n  </g>\r\n </g>\r\n <defs>\r\n  <clipPath id=\"p7ece339a13\">\r\n   <rect height=\"217.44\" width=\"334.8\" x=\"26.925\" y=\"7.2\"/>\r\n  </clipPath>\r\n </defs>\r\n</svg>\r\n",
      "text/plain": "<Figure size 432x288 with 1 Axes>"
     },
     "metadata": {
      "needs_background": "light"
     },
     "output_type": "display_data"
    }
   ],
   "source": [
    "plt.plot(X_new,y_predict)\n",
    "plt.plot(X,y,\"b.\")"
   ]
  },
  {
   "cell_type": "markdown",
   "execution_count": null,
   "metadata": {},
   "outputs": [],
   "source": [
    "### Scikit-Learn's version of Linear Regression"
   ]
  },
  {
   "cell_type": "code",
   "execution_count": 29,
   "metadata": {},
   "outputs": [
    {
     "name": "stdout",
     "output_type": "stream",
     "text": "[3.97436295] [[2.92513998]]\n"
    }
   ],
   "source": [
    "from sklearn.linear_model import LinearRegression\n",
    "lin_reg = LinearRegression()\n",
    "lin_reg.fit(X,y)\n",
    "print(lin_reg.intercept_,lin_reg.coef_)"
   ]
  },
  {
   "cell_type": "code",
   "execution_count": 30,
   "metadata": {},
   "outputs": [
    {
     "data": {
      "text/plain": "array([[3.97436295],\n       [9.8246429 ]])"
     },
     "execution_count": 30,
     "metadata": {},
     "output_type": "execute_result"
    }
   ],
   "source": [
    "lin_reg.predict(X_new)"
   ]
  },
  {
   "cell_type": "markdown",
   "execution_count": null,
   "metadata": {},
   "outputs": [],
   "source": [
    "the LinearRegression class is based on the scipy.linalg.lstsq() function (least squares)"
   ]
  },
  {
   "cell_type": "code",
   "execution_count": 32,
   "metadata": {},
   "outputs": [
    {
     "data": {
      "text/plain": "array([[3.97436295],\n       [2.92513998]])"
     },
     "execution_count": 32,
     "metadata": {},
     "output_type": "execute_result"
    }
   ],
   "source": [
    "theta_best_svd , residuals, rank, s = np.linalg.lstsq(X_b,y,rcond=1e-6)\n",
    "theta_best_svd"
   ]
  },
  {
   "cell_type": "markdown",
   "execution_count": null,
   "metadata": {},
   "outputs": [],
   "source": [
    "The function computes the pseudoinverse of X to get the minimum cost function, but this is really down in the weeds. (sigmoid = X^+ y)"
   ]
  },
  {
   "cell_type": "code",
   "execution_count": 33,
   "metadata": {},
   "outputs": [
    {
     "data": {
      "text/plain": "array([[3.97436295],\n       [2.92513998]])"
     },
     "execution_count": 33,
     "metadata": {},
     "output_type": "execute_result"
    }
   ],
   "source": [
    "np.linalg.pinv(X_b).dot(y) "
   ]
  },
  {
   "cell_type": "markdown",
   "execution_count": null,
   "metadata": {},
   "outputs": [],
   "source": [
    "## Linear Regression Using Gradient Descent\n",
    "\n",
    "* Refer to page 38 on notebook for more information"
   ]
  },
  {
   "cell_type": "code",
   "execution_count": 182,
   "metadata": {},
   "outputs": [],
   "source": [
    "eta = 0.1 ## Learning Rate\n",
    "n_iterations = 1000\n",
    "m = 100 ## Number of instances in training"
   ]
  },
  {
   "cell_type": "code",
   "execution_count": 183,
   "metadata": {},
   "outputs": [
    {
     "data": {
      "text/plain": "array([[1.17923791],\n       [0.629855  ]])"
     },
     "execution_count": 183,
     "metadata": {},
     "output_type": "execute_result"
    }
   ],
   "source": [
    "theta = np.random.randn(2,1)\n",
    "theta"
   ]
  },
  {
   "cell_type": "code",
   "execution_count": 184,
   "metadata": {},
   "outputs": [],
   "source": [
    "for iteration in range(n_iterations):\n",
    "    gradients = 2/m * X_b.T.dot(X_b.dot(theta) - y)\n",
    "    theta = theta - eta * gradients"
   ]
  },
  {
   "cell_type": "code",
   "execution_count": 185,
   "metadata": {},
   "outputs": [
    {
     "data": {
      "text/plain": "array([[3.97436295],\n       [2.92513998]])"
     },
     "execution_count": 185,
     "metadata": {},
     "output_type": "execute_result"
    }
   ],
   "source": [
    "theta"
   ]
  },
  {
   "cell_type": "markdown",
   "execution_count": null,
   "metadata": {},
   "outputs": [],
   "source": [
    "* Messing with the learning rate can severely change the performance of this algorithm "
   ]
  },
  {
   "cell_type": "markdown",
   "execution_count": null,
   "metadata": {},
   "outputs": [],
   "source": [
    "## Linear Regression Using Stochastic Gradient Descent\n",
    "* refer to page 42 on notebook for more information"
   ]
  },
  {
   "cell_type": "code",
   "execution_count": 198,
   "metadata": {},
   "outputs": [],
   "source": [
    "n_epochs = 50\n",
    "m_iter = 100\n",
    "t0, t1 = 5, 50 ## Learning schedule hyperparameters"
   ]
  },
  {
   "cell_type": "code",
   "execution_count": 199,
   "metadata": {},
   "outputs": [],
   "source": [
    "def learning_schedule(t):\n",
    "    return t0 / (t + t1)"
   ]
  },
  {
   "cell_type": "code",
   "execution_count": 200,
   "metadata": {},
   "outputs": [],
   "source": [
    "theta = np.random.randn(2,1) ## Random initializations"
   ]
  },
  {
   "cell_type": "code",
   "execution_count": 201,
   "metadata": {},
   "outputs": [
    {
     "data": {
      "text/plain": "array([[1.        , 1.29442913]])"
     },
     "execution_count": 201,
     "metadata": {},
     "output_type": "execute_result"
    }
   ],
   "source": [
    "X_b[0:1]"
   ]
  },
  {
   "cell_type": "code",
   "execution_count": 202,
   "metadata": {},
   "outputs": [],
   "source": [
    "## Note that the gradient is changing 5,000 times, while the gradient changes only 1,000 in Batch Gradient Descent\n",
    "for epoch in range (n_epochs): ## 50 rounds of iterating over the training set (100 random numbers - size of the training data : may be overlap since they are chosen randomly)\n",
    "    for i in range(m_iter):\n",
    "        random_index = np.random.randint(m)\n",
    "        xi = X_b[random_index:random_index+1]\n",
    "        yi = y[random_index:random_index+1]\n",
    "        gradients = 2 * xi.T.dot(xi.dot(theta) - yi) ## Only one instance is affecting the gradients, unlike batch gradient descent (**IMPORTANT DIFFERENCE**)\n",
    "        eta = learning_schedule(epoch * m + i) ## update learning rate\n",
    "        theta = theta - eta * gradients ## Calculate gradient descent step"
   ]
  },
  {
   "cell_type": "code",
   "execution_count": 203,
   "metadata": {},
   "outputs": [
    {
     "data": {
      "text/plain": "array([[4.00546572],\n       [2.92884219]])"
     },
     "execution_count": 203,
     "metadata": {},
     "output_type": "execute_result"
    }
   ],
   "source": [
    "theta"
   ]
  },
  {
   "cell_type": "markdown",
   "execution_count": null,
   "metadata": {},
   "outputs": [],
   "source": [
    "* The alogrithm above (Stochastic Gradient Descent) iterated over the training set only 50 times, while Batch Gradient Descent iterated over the training set 1,000 times"
   ]
  },
  {
   "cell_type": "markdown",
   "execution_count": null,
   "metadata": {},
   "outputs": [],
   "source": [
    "### Scikit-Learn's Linear Regression With Stochastic Gradient Descent"
   ]
  },
  {
   "cell_type": "code",
   "execution_count": 204,
   "metadata": {},
   "outputs": [],
   "source": [
    "from sklearn.linear_model import SGDRegressor\n",
    "sgd_reg = SGDRegressor(max_iter=1000, tol=1e-3,penalty=None,eta0=0.1)"
   ]
  },
  {
   "cell_type": "code",
   "execution_count": 209,
   "metadata": {},
   "outputs": [
    {
     "data": {
      "text/plain": "SGDRegressor(alpha=0.0001, average=False, early_stopping=False, epsilon=0.1,\n             eta0=0.1, fit_intercept=True, l1_ratio=0.15,\n             learning_rate='invscaling', loss='squared_loss', max_iter=1000,\n             n_iter_no_change=5, penalty=None, power_t=0.25, random_state=None,\n             shuffle=True, tol=0.001, validation_fraction=0.1, verbose=0,\n             warm_start=False)"
     },
     "execution_count": 209,
     "metadata": {},
     "output_type": "execute_result"
    }
   ],
   "source": [
    "sgd_reg.fit(X,y.flatten())"
   ]
  },
  {
   "cell_type": "code",
   "execution_count": 208,
   "metadata": {},
   "outputs": [
    {
     "data": {
      "text/plain": "(array([3.94571178]), array([2.91216616]))"
     },
     "execution_count": 208,
     "metadata": {},
     "output_type": "execute_result"
    }
   ],
   "source": [
    "sgd_reg.intercept_,sgd_reg.coef_"
   ]
  },
  {
   "cell_type": "code",
   "execution_count": null,
   "metadata": {},
   "outputs": [],
   "source": []
  }
 ]
}