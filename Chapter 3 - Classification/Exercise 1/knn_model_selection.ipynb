{
 "nbformat": 4,
 "nbformat_minor": 2,
 "metadata": {
  "language_info": {
   "name": "python",
   "codemirror_mode": {
    "name": "ipython",
    "version": 3
   },
   "version": "3.7.5"
  },
  "orig_nbformat": 2,
  "file_extension": ".py",
  "mimetype": "text/x-python",
  "name": "python",
  "npconvert_exporter": "python",
  "pygments_lexer": "ipython3",
  "version": 3
 },
 "cells": [
  {
   "source": [
    "from sklearn.neighbors import KNeighborsClassifier\n",
    "\n",
    "knn_model = KNeighborsClassifier()"
   ],
   "cell_type": "code",
   "outputs": [],
   "metadata": {},
   "execution_count": 3
  },
  {
   "source": [
    "X_train = X_train_df.drop(X_train_df.columns[0], axis=1).to_numpy()\n",
    "y_train = y_train_df.drop(y_train_df.columns[0], axis=1).to_numpy().ravel()"
   ],
   "cell_type": "code",
   "outputs": [],
   "metadata": {},
   "execution_count": 2
  },
  {
   "source": [
    "from scipy.stats import expon, randint\n",
    "from sklearn.model_selection import RandomizedSearchCV, cross_val_predict\n",
    "\n",
    "param_grid = {\n",
    "    'weights' : ['uniform','distance'] , \n",
    "    'n_neighbors' : randint(1,20)\n",
    "}\n",
    "randomized_search = RandomizedSearchCV(knn_model,param_distributions=param_grid,\n",
    "                n_iter=5,scoring=\"f1_macro\",n_jobs=10,cv=3,verbose=3)"
   ],
   "cell_type": "code",
   "outputs": [],
   "metadata": {},
   "execution_count": 4
  },
  {
   "source": [
    "randomized_search.fit(X_train,y_train)"
   ],
   "cell_type": "code",
   "outputs": [
    {
     "output_type": "stream",
     "name": "stdout",
     "text": "Fitting 3 folds for each of 5 candidates, totalling 15 fits\n[Parallel(n_jobs=10)]: Using backend LokyBackend with 10 concurrent workers.\n[Parallel(n_jobs=10)]: Done   2 out of  15 | elapsed: 65.8min remaining: 427.9min\n[Parallel(n_jobs=10)]: Done   8 out of  15 | elapsed: 67.9min remaining: 59.4min\n[Parallel(n_jobs=10)]: Done  15 out of  15 | elapsed: 86.7min finished\n"
    },
    {
     "output_type": "execute_result",
     "data": {
      "text/plain": "RandomizedSearchCV(cv=3, error_score='raise-deprecating',\n                   estimator=KNeighborsClassifier(algorithm='auto',\n                                                  leaf_size=30,\n                                                  metric='minkowski',\n                                                  metric_params=None,\n                                                  n_jobs=None, n_neighbors=5,\n                                                  p=2, weights='uniform'),\n                   iid='warn', n_iter=5, n_jobs=10,\n                   param_distributions={'n_neighbors': <scipy.stats._distn_infrastructure.rv_frozen object at 0x0000027A570EE288>,\n                                        'weights': ['uniform', 'distance']},\n                   pre_dispatch='2*n_jobs', random_state=None, refit=True,\n                   return_train_score=False, scoring='f1_macro', verbose=3)"
     },
     "metadata": {},
     "execution_count": 5
    }
   ],
   "metadata": {},
   "execution_count": 5
  },
  {
   "source": [
    "randomized_search.best_score_"
   ],
   "cell_type": "code",
   "outputs": [
    {
     "output_type": "execute_result",
     "data": {
      "text/plain": "0.9711910912493578"
     },
     "metadata": {},
     "execution_count": 7
    }
   ],
   "metadata": {},
   "execution_count": 7
  },
  {
   "source": [
    "knn_best_model = randomized_search.best_estimator_"
   ],
   "cell_type": "code",
   "outputs": [],
   "metadata": {},
   "execution_count": 6
  },
  {
   "source": [
    "from sklearn.externals import joblib\n",
    "joblib.dump(knn_best_model,\"knn_best_model.pkl\")"
   ],
   "cell_type": "code",
   "outputs": [
    {
     "output_type": "stream",
     "name": "stderr",
     "text": "C:\\Anaconda\\envs\\OReillyEnv-gpu\\lib\\site-packages\\sklearn\\externals\\joblib\\__init__.py:15: DeprecationWarning: sklearn.externals.joblib is deprecated in 0.21 and will be removed in 0.23. Please import this functionality directly from joblib, which can be installed with: pip install joblib. If this warning is raised when loading pickled models, you may need to re-serialize those models with scikit-learn 0.21+.\n  warnings.warn(msg, category=DeprecationWarning)\n"
    },
    {
     "output_type": "execute_result",
     "data": {
      "text/plain": "['knn_best_model.pkl']"
     },
     "metadata": {},
     "execution_count": 11
    }
   ],
   "metadata": {},
   "execution_count": 11
  },
  {
   "cell_type": "code",
   "execution_count": null,
   "metadata": {},
   "outputs": [],
   "source": []
  },
  {
   "source": [
    "import pandas as pd\n",
    "X_train_df = pd.read_csv(r'C:\\Users\\Sergio Orozco\\Desktop\\OReillyBookCodeAlong\\Chapter 3 - Classification\\Exercise 1\\training_data.csv')\n",
    "y_train_df = pd.read_csv(r'C:\\Users\\Sergio Orozco\\Desktop\\OReillyBookCodeAlong\\Chapter 3 - Classification\\Exercise 1\\training_labels.csv')"
   ],
   "cell_type": "code",
   "outputs": [],
   "metadata": {},
   "execution_count": 1
  }
 ]
}